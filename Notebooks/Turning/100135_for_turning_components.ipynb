{
 "cells": [
  {
   "cell_type": "code",
   "execution_count": 1,
   "metadata": {
    "collapsed": false
   },
   "outputs": [],
   "source": [
    "import matplotlib\n",
    "import numpy as np\n",
    "import matplotlib.pyplot as plt\n",
    "from scipy import stats\n",
    "from scipy import io\n",
    "import scipy.io as sio\n",
    "%matplotlib inline \n",
    "import pylab\n",
    "import csv\n",
    "from Tkinter import Tk\n",
    "from tkFileDialog import askopenfilename\n",
    "from tkFileDialog import askdirectory\n",
    "import nibabel as nb\n",
    "from scipy import io\n",
    "import nibabel as nb\n",
    "from scipy.interpolate import interp1d\n",
    "from scipy import ndimage"
   ]
  },
  {
   "cell_type": "code",
   "execution_count": 2,
   "metadata": {
    "collapsed": true
   },
   "outputs": [],
   "source": [
    "from sklearn import linear_model"
   ]
  },
  {
   "cell_type": "markdown",
   "metadata": {},
   "source": [
    "# Open data"
   ]
  },
  {
   "cell_type": "code",
   "execution_count": 6,
   "metadata": {
    "collapsed": false
   },
   "outputs": [
    {
     "name": "stdout",
     "output_type": "stream",
     "text": [
      "/media/test15/THDDCGCaMP62/100135/100135Final/100135ss2c500regcdFF20sMpsfkfint101Smith0_4_60ICTSROIThresh3.mat\n"
     ]
    }
   ],
   "source": [
    "# from http://stackoverflow.com/questions/3579568/choosing-a-file-in-python-with-simple-dialog\n",
    "Tk().withdraw() # we don't want a full GUI, so keep the root window from appearing\n",
    "filename = askopenfilename() # show an \"Open\" dialog box and return the path to the selected file\n",
    "print(filename)"
   ]
  },
  {
   "cell_type": "code",
   "execution_count": 9,
   "metadata": {
    "collapsed": false
   },
   "outputs": [
    {
     "data": {
      "text/plain": [
       "(10183, 101)"
      ]
     },
     "execution_count": 9,
     "metadata": {},
     "output_type": "execute_result"
    }
   ],
   "source": [
    "Ua=sio.loadmat(filename)\n",
    "DT=Ua['TS']\n",
    "DT.shape"
   ]
  },
  {
   "cell_type": "code",
   "execution_count": 10,
   "metadata": {
    "collapsed": false
   },
   "outputs": [
    {
     "name": "stdout",
     "output_type": "stream",
     "text": [
      "/media/test15/THDDCGCaMP62/100135/100135Final/100135ss2c500regcdFF20sMpsfkfint101Smith0_4_60IC.nii\n"
     ]
    }
   ],
   "source": [
    "# from http://stackoverflow.com/questions/3579568/choosing-a-file-in-python-with-simple-dialog\n",
    "Tk().withdraw() # we don't want a full GUI, so keep the root window from appearing\n",
    "filename2 = askopenfilename() # show an \"Open\" dialog box and return the path to the selected file\n",
    "print(filename2)"
   ]
  },
  {
   "cell_type": "code",
   "execution_count": 11,
   "metadata": {
    "collapsed": false
   },
   "outputs": [
    {
     "data": {
      "text/plain": [
       "(137, 87, 7, 101)"
      ]
     },
     "execution_count": 11,
     "metadata": {},
     "output_type": "execute_result"
    }
   ],
   "source": [
    "img1 = nb.load(filename2)\n",
    "data = img1.get_data()\n",
    "S=data.shape\n",
    "S"
   ]
  },
  {
   "cell_type": "markdown",
   "metadata": {},
   "source": [
    "Z-score"
   ]
  },
  {
   "cell_type": "code",
   "execution_count": 12,
   "metadata": {
    "collapsed": false
   },
   "outputs": [],
   "source": [
    "Demean=np.zeros(S)\n",
    "Dmaps=np.zeros(S)\n",
    "Dvar=np.zeros(S)\n",
    "Var=np.zeros(S[3])\n",
    "D2=np.zeros([S[0],S[1],5,S[3]])\n",
    "Tvar=np.zeros(S[3])"
   ]
  },
  {
   "cell_type": "code",
   "execution_count": 13,
   "metadata": {
    "collapsed": false
   },
   "outputs": [],
   "source": [
    "for i in range(S[3]):\n",
    "    Demean[:,:,:,i]=data[:,:,:,i]-np.mean(np.mean(np.mean(data[:,:,:,i],0),0),0)"
   ]
  },
  {
   "cell_type": "code",
   "execution_count": 14,
   "metadata": {
    "collapsed": false
   },
   "outputs": [],
   "source": [
    "for i in range(S[3]):\n",
    "    Dsq=np.reshape(Demean[:,:,:,i],S[0]*S[1]*S[2])\n",
    "    Var[i]=np.sqrt(np.var(Dsq))\n",
    "    Dvar=Demean[:,:,:,i]/Var[i]\n",
    "    Dmaps[:,:,:,i]=Dvar-2\n",
    "    Tvar[i]=np.var(DT[i,:])\n",
    "Dmaps[Dmaps<0]=0"
   ]
  },
  {
   "cell_type": "code",
   "execution_count": 15,
   "metadata": {
    "collapsed": false
   },
   "outputs": [
    {
     "name": "stdout",
     "output_type": "stream",
     "text": [
      "/media/test15/THDDCGCaMP62/100135/100135Final/100135Xk.mat\n"
     ]
    }
   ],
   "source": [
    "# from http://stackoverflow.com/questions/3579568/choosing-a-file-in-python-with-simple-dialog\n",
    "Tk().withdraw() # we don't want a full GUI, so keep the root window from appearing\n",
    "filename = askopenfilename() # show an \"Open\" dialog box and return the path to the selected file\n",
    "print(filename)"
   ]
  },
  {
   "cell_type": "code",
   "execution_count": 16,
   "metadata": {
    "collapsed": true
   },
   "outputs": [],
   "source": [
    "Ua=sio.loadmat(filename)\n",
    "Xk=Ua['Xk']"
   ]
  },
  {
   "cell_type": "code",
   "execution_count": 17,
   "metadata": {
    "collapsed": false
   },
   "outputs": [
    {
     "name": "stdout",
     "output_type": "stream",
     "text": [
      "/media/test15/THDDCGCaMP62/100135/100135Final/AVG_100135ss2c500regcdFF20sMpsfkfintminmask.nii\n"
     ]
    },
    {
     "data": {
      "text/plain": [
       "(137, 87, 7)"
      ]
     },
     "execution_count": 17,
     "metadata": {},
     "output_type": "execute_result"
    }
   ],
   "source": [
    "# from http://stackoverflow.com/questions/3579568/choosing-a-file-in-python-with-simple-dialog\n",
    "from Tkinter import Tk\n",
    "from tkFileDialog import askopenfilename\n",
    "\n",
    "Tk().withdraw() # we don't want a full GUI, so keep the root window from appearing\n",
    "filenamet = askopenfilename() # show an \"Open\" dialog box and return the path to the selected file\n",
    "print(filenamet)\n",
    "nimt=nb.load(filenamet)\n",
    "Dtemp=np.squeeze(nimt.get_data())\n",
    "Dtemp.shape"
   ]
  },
  {
   "cell_type": "markdown",
   "metadata": {},
   "source": [
    "# Fit turns"
   ]
  },
  {
   "cell_type": "code",
   "execution_count": 18,
   "metadata": {
    "collapsed": false
   },
   "outputs": [
    {
     "data": {
      "application/javascript": [
       "IPython.OutputArea.auto_scroll_threshold =4000;"
      ],
      "text/plain": [
       "<IPython.core.display.Javascript object>"
      ]
     },
     "metadata": {},
     "output_type": "display_data"
    }
   ],
   "source": [
    "%%javascript\n",
    "IPython.OutputArea.auto_scroll_threshold =4000;"
   ]
  },
  {
   "cell_type": "code",
   "execution_count": 19,
   "metadata": {
    "collapsed": false
   },
   "outputs": [
    {
     "name": "stderr",
     "output_type": "stream",
     "text": [
      "/usr/local/lib/python2.7/dist-packages/numpy/lib/shape_base.py:422: VisibleDeprecationWarning: using a non-integer number instead of an integer will result in an error in the future\n",
      "  sub_arys.append(_nx.swapaxes(sary[st:end], axis, 0))\n"
     ]
    }
   ],
   "source": [
    "if S[2]>5:\n",
    "    Nstack=5\n",
    "    Int100=[(i+1)*100/Nstack for i in range(Nstack)]\n",
    "    Percs=np.percentile(range(S[2]),Int100)\n",
    "    Indices=np.split(range(S[2]),Percs)\n",
    "    D1=np.zeros([S[0],S[1],Nstack])\n",
    "    Dmean=np.squeeze(data[:,:,range(Nstack),2])\n",
    "    for i in range(Nstack):\n",
    "        Vmean=np.mean(Dtemp[:,:,Indices[i]],2)\n",
    "        Dmean[:,:,i]=Vmean\n",
    "else:\n",
    "    Nstack=S[2]\n",
    "    D1=np.zeros([S[0],S[1],S[2]])\n",
    "    Dmean=data[:,:,range(S[2])]  \n",
    "    Dmean=np.squeeze(Dtemp[:,:,:])"
   ]
  },
  {
   "cell_type": "code",
   "execution_count": 20,
   "metadata": {
    "collapsed": true
   },
   "outputs": [],
   "source": [
    "for j in range(S[3]):\n",
    "\n",
    "    a=''\n",
    "    if S[2]>5:\n",
    "        for i in range(Nstack):\n",
    "            V=Dmaps[:,:,Indices[i],j]\n",
    "            D1[:,:,i]=np.max(V,2)\n",
    "        D2[:,:,:,j]=D1\n",
    "        D1[D1==0]=np.nan"
   ]
  },
  {
   "cell_type": "code",
   "execution_count": 21,
   "metadata": {
    "collapsed": false
   },
   "outputs": [
    {
     "data": {
      "text/plain": [
       "<matplotlib.image.AxesImage at 0x7f4127280590>"
      ]
     },
     "execution_count": 21,
     "metadata": {},
     "output_type": "execute_result"
    },
    {
     "data": {
      "image/png": "[encoded data removed]",
      "text/plain": [
       "<matplotlib.figure.Figure at 0x7f41262a8150>"
      ]
     },
     "metadata": {},
     "output_type": "display_data"
    }
   ],
   "source": [
    "plt.imshow(Dmean[:,:,1],cmap=plt.cm.gray)"
   ]
  },
  {
   "cell_type": "code",
   "execution_count": 22,
   "metadata": {
    "collapsed": false
   },
   "outputs": [],
   "source": [
    "my_cmap=plt.cm.jet\n",
    "my_cmap.set_bad(alpha=0)\n",
    "Good_ICs=np.zeros(S[3])\n",
    "Label_ICs=[]\n",
    "pylab.rcParams['figure.figsize'] = (15, 2.5)"
   ]
  },
  {
   "cell_type": "code",
   "execution_count": 23,
   "metadata": {
    "collapsed": true
   },
   "outputs": [],
   "source": [
    "algorithm = linear_model.LinearRegression()"
   ]
  },
  {
   "cell_type": "code",
   "execution_count": 24,
   "metadata": {
    "collapsed": false
   },
   "outputs": [],
   "source": [
    "Sxk=Xk.shape"
   ]
  },
  {
   "cell_type": "code",
   "execution_count": 25,
   "metadata": {
    "collapsed": false
   },
   "outputs": [
    {
     "data": {
      "text/plain": [
       "(10183, 6)"
      ]
     },
     "execution_count": 25,
     "metadata": {},
     "output_type": "execute_result"
    }
   ],
   "source": [
    "Sxk"
   ]
  },
  {
   "cell_type": "code",
   "execution_count": 77,
   "metadata": {
    "collapsed": false
   },
   "outputs": [
    {
     "data": {
      "text/plain": [
       "array([[  2.27142330e-01,   1.57488379e-01,   5.19933225e-01,\n",
       "          3.47190290e-01,   0.00000000e+00,   0.00000000e+00],\n",
       "       [  9.01014767e+00,   5.70169478e+00,   2.03352189e+01,\n",
       "          1.19640663e+01,   0.00000000e+00,   0.00000000e+00],\n",
       "       [  6.37076386e+01,   2.79727195e+01,   1.38131396e+02,\n",
       "          3.21705420e+01,   0.00000000e+00,   0.00000000e+00],\n",
       "       ..., \n",
       "       [  2.80664727e+02,   3.36500346e+02,   3.60072854e+02,\n",
       "          0.00000000e+00,   9.29330702e+02,   1.22693432e-01],\n",
       "       [  2.85930971e+02,   3.43127135e+02,   3.58062172e+02,\n",
       "          0.00000000e+00,   9.30654494e+02,   1.05675327e-01],\n",
       "       [  2.90727488e+02,   3.45693741e+02,   3.62951751e+02,\n",
       "          0.00000000e+00,   9.31925948e+02,   8.93300693e-02]])"
      ]
     },
     "execution_count": 77,
     "metadata": {},
     "output_type": "execute_result"
    }
   ],
   "source": [
    "Xk"
   ]
  },
  {
   "cell_type": "code",
   "execution_count": 26,
   "metadata": {
    "collapsed": false
   },
   "outputs": [],
   "source": [
    "X=np.zeros((Sxk[0],2))"
   ]
  },
  {
   "cell_type": "code",
   "execution_count": 79,
   "metadata": {
    "collapsed": true
   },
   "outputs": [],
   "source": [
    "del Xlr"
   ]
  },
  {
   "cell_type": "code",
   "execution_count": 92,
   "metadata": {
    "collapsed": false
   },
   "outputs": [],
   "source": [
    "Xlr=Xk[:,1]-Xk[:,0]\n",
    "Xr=-Xlr\n",
    "Xl=-Xr\n",
    "Xr[Xr<0]=0\n",
    "Xl[Xl<0]=0\n",
    "X[:,0]=(Xr/np.std(Xr))\n",
    "X[:,1]=(Xl/np.std(Xl))\n",
    "#X[:,2]=(Xk[:,3]-np.mean(Xk[:,3]))/np.std(Xk[:,3])\n",
    "#X[:,3]=(Xk[:,4]-np.mean(Xk[:,4]))/np.std(Xk[:,4])\n",
    "#X[:,4]=(Xk[:,6]-np.mean(Xk[:,6]))/np.std(Xk[:,6])\n",
    "#X[:,5]=(Xk[:,7]-np.mean(Xk[:,7]))/np.std(Xk[:,7])"
   ]
  },
  {
   "cell_type": "code",
   "execution_count": 93,
   "metadata": {
    "collapsed": false
   },
   "outputs": [
    {
     "data": {
      "image/png": "[encoded data removed]",
      "text/plain": [
       "<matplotlib.figure.Figure at 0x7f412671b150>"
      ]
     },
     "metadata": {},
     "output_type": "display_data"
    }
   ],
   "source": [
    "#dX=np.gradient(X,axis=0)\n",
    "\n",
    "plt.plot(X[:,0])\n",
    "plt.plot(X[:,1])\n",
    "#plt.plot(X[:,1])\n",
    "\n",
    "#plt.plot(np.smooth(X[:,1]-X[:,0]))\n",
    "#plt.plot(X[:,2])\n",
    "#plt.plot(X[:,3])\n",
    "#plt.plot(X[:,4])\n",
    "#plt.plot(X[:,5])\n",
    "zero_crossings = np.where(np.diff(np.sign(X[:,1]-X[:,0])))[0]\n",
    "#print(zero_crossings.shape)"
   ]
  },
  {
   "cell_type": "markdown",
   "metadata": {},
   "source": [
    "# Plot all components for turning left, right, walking, and grooming"
   ]
  },
  {
   "cell_type": "code",
   "execution_count": 94,
   "metadata": {
    "collapsed": false
   },
   "outputs": [],
   "source": [
    "Rsq=np.zeros((1,S[3]))\n",
    "Betas=np.zeros((2,S[3]))"
   ]
  },
  {
   "cell_type": "code",
   "execution_count": 95,
   "metadata": {
    "collapsed": false
   },
   "outputs": [
    {
     "data": {
      "text/plain": [
       "(10183, 2)"
      ]
     },
     "execution_count": 95,
     "metadata": {},
     "output_type": "execute_result"
    }
   ],
   "source": [
    "X.shape"
   ]
  },
  {
   "cell_type": "code",
   "execution_count": 96,
   "metadata": {
    "collapsed": false
   },
   "outputs": [
    {
     "data": {
      "text/plain": [
       "(10183, 101)"
      ]
     },
     "execution_count": 96,
     "metadata": {},
     "output_type": "execute_result"
    }
   ],
   "source": [
    "DT.shape"
   ]
  },
  {
   "cell_type": "code",
   "execution_count": 97,
   "metadata": {
    "collapsed": false
   },
   "outputs": [],
   "source": [
    "for j in range(S[3]):\n",
    "    model = algorithm.fit(X, DT[:,j])\n",
    "    Betas[:,j] = model.coef_\n",
    "    Rsq[:,j] = model.score(X,DT[:,j])"
   ]
  },
  {
   "cell_type": "code",
   "execution_count": 98,
   "metadata": {
    "collapsed": true
   },
   "outputs": [],
   "source": [
    "RsqUni=np.zeros((6,S[3]))\n",
    "BetaUni=np.zeros((6,S[3]))"
   ]
  },
  {
   "cell_type": "code",
   "execution_count": 99,
   "metadata": {
    "collapsed": false
   },
   "outputs": [],
   "source": [
    "Sx=X.shape"
   ]
  },
  {
   "cell_type": "code",
   "execution_count": 100,
   "metadata": {
    "collapsed": false
   },
   "outputs": [],
   "source": [
    "for k in range(2):\n",
    "    for j in range(S[3]):\n",
    "        model = algorithm.fit(np.reshape(X[:,k],(Sx[0],1)), DT[:,j])\n",
    "        BetaUni[k,j] = model.coef_\n",
    "        RsqUni[k,j] = model.score(np.reshape(X[:,k],(Sx[0],1)),DT[:,j])\n",
    "    "
   ]
  },
  {
   "cell_type": "code",
   "execution_count": 101,
   "metadata": {
    "collapsed": false
   },
   "outputs": [
    {
     "data": {
      "text/plain": [
       "[<matplotlib.lines.Line2D at 0x7f4126c4e0d0>]"
      ]
     },
     "execution_count": 101,
     "metadata": {},
     "output_type": "execute_result"
    },
    {
     "data": {
      "image/png": "[encoded data removed]",
      "text/plain": [
       "<matplotlib.figure.Figure at 0x7f41268921d0>"
      ]
     },
     "metadata": {},
     "output_type": "display_data"
    }
   ],
   "source": [
    "plt.plot(RsqUni[0,:])"
   ]
  },
  {
   "cell_type": "code",
   "execution_count": 102,
   "metadata": {
    "collapsed": false
   },
   "outputs": [],
   "source": [
    "import random"
   ]
  },
  {
   "cell_type": "code",
   "execution_count": 103,
   "metadata": {
    "collapsed": false
   },
   "outputs": [],
   "source": [
    "del Final_map\n",
    "del Fmaps"
   ]
  },
  {
   "cell_type": "code",
   "execution_count": 104,
   "metadata": {
    "collapsed": true
   },
   "outputs": [],
   "source": [
    "if S[2]>5:\n",
    "    Final_map=np.zeros([S[0],S[1],5,3])\n",
    "    Fmaps=np.zeros([S[0],S[1],5,3])\n",
    "else:\n",
    "    Final_map=np.zeros([S[0],S[1],3]) \n",
    "    Fmaps=np.zeros([S[0],S[1],3])    \n",
    "C=np.zeros([S[3],3])\n",
    "C1=np.zeros([6,3])\n",
    "C1[0][:]=(1,0,0)\n",
    "C1[1][:]=(0,1,0)\n",
    "C1[2][:]=(0,0,1)\n",
    "C1[3][:]=(0.8,0.8,0)\n",
    "C1[4][:]=(0,1,1)\n",
    "C1[5][:]=(1,0,1)\n",
    "S1=DT.shape"
   ]
  },
  {
   "cell_type": "code",
   "execution_count": 109,
   "metadata": {
    "collapsed": false
   },
   "outputs": [
    {
     "name": "stdout",
     "output_type": "stream",
     "text": [
      "11\n",
      "[ 0.47139509]\n",
      "48\n",
      "[ 0.45210755]\n"
     ]
    }
   ],
   "source": [
    "C=np.zeros((S[3],3))\n",
    "i=0\n",
    "l=0\n",
    "Betas2=RsqUni\n",
    "for j in range(S[3]):  \n",
    "    if Betas2[0,j]>0.9*np.max(Betas2[0,:]):\n",
    "    #if 1>0.1:\n",
    "        #C[j,:]=C1[i%6][:]\n",
    "        C[j,2]=1\n",
    "        C[j,1]=random.uniform(0,1)\n",
    "        #C[j,2]=1\n",
    "        for k in range(3):           \n",
    "            M=np.max(np.squeeze(np.reshape(D2[:,:,:,j],S[0]*S[1]*5)))\n",
    "            Fmaps[:,:,:,k]=0.8*D2[:,:,:,j]*C[j,k]/M\n",
    "        Final_map=Final_map+Fmaps\n",
    "        #Betas[0,j]=0\n",
    "        #print(Indexo[j])\n",
    "        print(j+1)\n",
    "        i=i+1\n",
    "        l=l+1\n",
    "        print(Rsq[:,j])        \n",
    "        #if l==2:\n",
    "            #break\n",
    "    "
   ]
  },
  {
   "cell_type": "code",
   "execution_count": 110,
   "metadata": {
    "collapsed": false
   },
   "outputs": [
    {
     "name": "stdout",
     "output_type": "stream",
     "text": [
      "49\n"
     ]
    }
   ],
   "source": [
    "C=np.zeros((S[3],3))\n",
    "i=0\n",
    "l=0\n",
    "Betas2=RsqUni\n",
    "for j in range(S[3]):  \n",
    "    if Betas2[1,j]>0.9*np.max(Betas2[1,:]):\n",
    "    #if 1>0.1:\n",
    "        #C[j,:]=C1[i%6][:]\n",
    "        C[j,0]=1\n",
    "        C[j,1]=random.uniform(0,1)\n",
    "        #C[j,2]=1\n",
    "        for k in range(3):           \n",
    "            M=np.max(np.squeeze(np.reshape(D2[:,:,:,j],S[0]*S[1]*5)))\n",
    "            Fmaps[:,:,:,k]=0.8*D2[:,:,:,j]*C[j,k]/M\n",
    "        Final_map=Final_map+Fmaps\n",
    "        #Betas2[1,j]=0\n",
    "        #print(Indexo[j])\n",
    "        i=i+1\n",
    "        l=l+1\n",
    "        print(j+1)\n",
    "        #if l==2:\n",
    "         #   break"
   ]
  },
  {
   "cell_type": "code",
   "execution_count": 111,
   "metadata": {
    "collapsed": false
   },
   "outputs": [
    {
     "data": {
      "image/png": "[encoded data removed]",
      "text/plain": [
       "<matplotlib.figure.Figure at 0x7f41267fba10>"
      ]
     },
     "metadata": {},
     "output_type": "display_data"
    }
   ],
   "source": [
    "pylab.rcParams['figure.figsize'] = (15, 6)\n",
    "C2=np.zeros(3)\n",
    "\n",
    "Df=np.zeros([S[0],S[1],5,3]) \n",
    "  \n",
    "for i in range(3):\n",
    "    Df[:,:,:,i]=Final_map[:,:,:,i]+Dmean/30\n",
    "    #Df=Df/(np.max(np.max(np.max(Df),3)))\n",
    "if S[2]>5:\n",
    "    N=Nstack\n",
    "else:\n",
    "    N=S[2]\n",
    "for i in range(N):\n",
    "    #if Good_ICs[j]:\n",
    "        plt.subplot(1,N,i+1)\n",
    "        plt.imshow(Df[:,:,i],cmap=plt.cm.gray)\n",
    "        plt.imshow(Df[:,:,i,:],cmap=my_cmap,interpolation='none')\n",
    "        frame1 = plt.gca()\n",
    "        frame1.axes.get_xaxis().set_visible(False)\n",
    "        frame1.axes.get_yaxis().set_visible(False)\n",
    "plt.tight_layout(pad=0,w_pad=0,h_pad=0)"
   ]
  },
  {
   "cell_type": "code",
   "execution_count": 108,
   "metadata": {
    "collapsed": false
   },
   "outputs": [
    {
     "name": "stdout",
     "output_type": "stream",
     "text": [
      "95\n",
      "95\n"
     ]
    },
    {
     "data": {
      "image/png": "[encoded data removed]",
      "text/plain": [
       "<matplotlib.figure.Figure at 0x7f4126ddfad0>"
      ]
     },
     "metadata": {},
     "output_type": "display_data"
    }
   ],
   "source": [
    "del Final_map\n",
    "del Fmaps\n",
    "\n",
    "if S[2]>5:\n",
    "    Final_map=np.zeros([S[0],S[1],5,3])\n",
    "    Fmaps=np.zeros([S[0],S[1],5,3])\n",
    "else:\n",
    "    Final_map=np.zeros([S[0],S[1],3]) \n",
    "    Fmaps=np.zeros([S[0],S[1],3])    \n",
    "C=np.zeros([S[3],3])\n",
    "C1=np.zeros([6,3])\n",
    "C1[0][:]=(1,0,0)\n",
    "C1[1][:]=(0,1,0)\n",
    "C1[2][:]=(0,0,1)\n",
    "C1[3][:]=(0.8,0.8,0)\n",
    "C1[4][:]=(0,1,1)\n",
    "C1[5][:]=(1,0,1)\n",
    "S1=DT.shape\n",
    "\n",
    "C=np.zeros((S[3],3))\n",
    "i=1\n",
    "l=0\n",
    "Betas2=Betas\n",
    "for j in range(2,S[3]):  \n",
    "    if Betas2[0,j]>0.6*np.max(Betas2[0,:]):\n",
    "    #if 1>0.1:\n",
    "        #C[j,:]=C1[i%6][:]\n",
    "        C[j,2]=1\n",
    "        C[j,1]=1-i/2\n",
    "        #C[j,2]=1\n",
    "        for k in range(3):           \n",
    "            M=np.max(np.squeeze(np.reshape(D2[:,:,:,j],S[0]*S[1]*5)))\n",
    "            Fmaps[:,:,:,k]=0.75*D2[:,:,:,j]*C[j,k]/M\n",
    "        Final_map=Final_map+Fmaps\n",
    "        #Betas[0,j]=0\n",
    "        #print(Indexo[j])\n",
    "        i=i+1\n",
    "        l=l+1\n",
    "        print(j+1)\n",
    "        #if l==2:\n",
    "            #break\n",
    "    \n",
    "\n",
    "C=np.zeros((S[3],3))\n",
    "i=1\n",
    "l=0\n",
    "Betas2=Betas\n",
    "for j in range(2,S[3]):  \n",
    "    if Betas2[1,j]>0.6*np.max(Betas2[1,:]):\n",
    "    #if 1>0.1:\n",
    "        #C[j,:]=C1[i%6][:]\n",
    "        C[j,0]=1\n",
    "        C[j,1]=i/2\n",
    "        #C[j,2]=1\n",
    "        for k in range(3):           \n",
    "            M=np.max(np.squeeze(np.reshape(D2[:,:,:,j],S[0]*S[1]*5)))\n",
    "            Fmaps[:,:,:,k]=0.75*D2[:,:,:,j]*C[j,k]/M\n",
    "        Final_map=Final_map+Fmaps\n",
    "        #Betas2[1,j]=0\n",
    "        #print(Indexo[j])\n",
    "        i=i+1\n",
    "        l=l+1\n",
    "        print(j+1)\n",
    "        #if l==2:\n",
    "         #   break\n",
    "\n",
    "pylab.rcParams['figure.figsize'] = (15, 6)\n",
    "C2=np.zeros(3)\n",
    "\n",
    "Df=np.zeros([S[0],S[1],5,3]) \n",
    "  \n",
    "for i in range(3):\n",
    "    Df[:,:,:,i]=Final_map[:,:,:,i]+Dmean/30\n",
    "    #Df=Df/(np.max(np.max(np.max(Df),3)))\n",
    "if S[2]>5:\n",
    "    N=Nstack\n",
    "else:\n",
    "    N=S[2]\n",
    "for i in range(N):\n",
    "    #if Good_ICs[j]:\n",
    "        plt.subplot(1,N,i+1)\n",
    "        plt.imshow(Df[:,:,i],cmap=plt.cm.gray)\n",
    "        plt.imshow(Df[:,:,i,:],cmap=my_cmap,interpolation='none')\n",
    "        frame1 = plt.gca()\n",
    "        frame1.axes.get_xaxis().set_visible(False)\n",
    "        frame1.axes.get_yaxis().set_visible(False)\n",
    "plt.tight_layout(pad=0,w_pad=0,h_pad=0)"
   ]
  },
  {
   "cell_type": "code",
   "execution_count": null,
   "metadata": {
    "collapsed": true
   },
   "outputs": [],
   "source": []
  }
 ],
 "metadata": {
  "kernelspec": {
   "display_name": "Python 2",
   "language": "python",
   "name": "python2"
  },
  "language_info": {
   "codemirror_mode": {
    "name": "ipython",
    "version": 2
   },
   "file_extension": ".py",
   "mimetype": "text/x-python",
   "name": "python",
   "nbconvert_exporter": "python",
   "pygments_lexer": "ipython2",
   "version": "2.7.12"
  }
 },
 "nbformat": 4,
 "nbformat_minor": 0
}
