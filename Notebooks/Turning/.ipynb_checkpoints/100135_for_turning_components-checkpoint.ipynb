{
 "cells": [
  {
   "cell_type": "code",
   "execution_count": 1,
   "metadata": {
    "collapsed": false
   },
   "outputs": [],
   "source": [
    "import matplotlib\n",
    "import numpy as np\n",
    "import matplotlib.pyplot as plt\n",
    "from scipy import stats\n",
    "from scipy import io\n",
    "import scipy.io as sio\n",
    "%matplotlib inline \n",
    "import pylab\n",
    "import csv\n",
    "from Tkinter import Tk\n",
    "from tkFileDialog import askopenfilename\n",
    "from tkFileDialog import askdirectory\n",
    "import nibabel as nb\n",
    "from scipy import io\n",
    "import nibabel as nb\n",
    "from scipy.interpolate import interp1d\n",
    "from scipy import ndimage"
   ]
  },
  {
   "cell_type": "code",
   "execution_count": 2,
   "metadata": {
    "collapsed": true
   },
   "outputs": [],
   "source": [
    "from sklearn import linear_model"
   ]
  },
  {
   "cell_type": "markdown",
   "metadata": {},
   "source": [
    "# Open data"
   ]
  },
  {
   "cell_type": "code",
   "execution_count": 6,
   "metadata": {
    "collapsed": false
   },
   "outputs": [
    {
     "name": "stdout",
     "output_type": "stream",
     "text": [
      "/media/test15/THDDCGCaMP62/100135/100135Final/100135ss2c500regcdFF20sMpsfkfint101Smith0_4_60ICTSROIThresh3.mat\n"
     ]
    }
   ],
   "source": [
    "# from http://stackoverflow.com/questions/3579568/choosing-a-file-in-python-with-simple-dialog\n",
    "Tk().withdraw() # we don't want a full GUI, so keep the root window from appearing\n",
    "filename = askopenfilename() # show an \"Open\" dialog box and return the path to the selected file\n",
    "print(filename)"
   ]
  },
  {
   "cell_type": "code",
   "execution_count": 7,
   "metadata": {
    "collapsed": false
   },
   "outputs": [
    {
     "ename": "KeyError",
     "evalue": "'TSo'",
     "output_type": "error",
     "traceback": [
      "\u001b[0;31m---------------------------------------------------------------------------\u001b[0m",
      "\u001b[0;31mKeyError\u001b[0m                                  Traceback (most recent call last)",
      "\u001b[0;32m<ipython-input-7-5deed7cbcf29>\u001b[0m in \u001b[0;36m<module>\u001b[0;34m()\u001b[0m\n\u001b[1;32m      1\u001b[0m \u001b[0mUa\u001b[0m\u001b[0;34m=\u001b[0m\u001b[0msio\u001b[0m\u001b[0;34m.\u001b[0m\u001b[0mloadmat\u001b[0m\u001b[0;34m(\u001b[0m\u001b[0mfilename\u001b[0m\u001b[0;34m)\u001b[0m\u001b[0;34m\u001b[0m\u001b[0m\n\u001b[0;32m----> 2\u001b[0;31m \u001b[0mDT\u001b[0m\u001b[0;34m=\u001b[0m\u001b[0mUa\u001b[0m\u001b[0;34m[\u001b[0m\u001b[0;34m'TSo'\u001b[0m\u001b[0;34m]\u001b[0m\u001b[0;34m\u001b[0m\u001b[0m\n\u001b[0m\u001b[1;32m      3\u001b[0m \u001b[0mDT\u001b[0m\u001b[0;34m.\u001b[0m\u001b[0mshape\u001b[0m\u001b[0;34m\u001b[0m\u001b[0m\n",
      "\u001b[0;31mKeyError\u001b[0m: 'TSo'"
     ]
    }
   ],
   "source": [
    "Ua=sio.loadmat(filename)\n",
    "DT=Ua['TS']\n",
    "DT.shape"
   ]
  },
  {
   "cell_type": "code",
   "execution_count": 8,
   "metadata": {
    "collapsed": false
   },
   "outputs": [
    {
     "name": "stdout",
     "output_type": "stream",
     "text": [
      "\n"
     ]
    }
   ],
   "source": [
    "# from http://stackoverflow.com/questions/3579568/choosing-a-file-in-python-with-simple-dialog\n",
    "Tk().withdraw() # we don't want a full GUI, so keep the root window from appearing\n",
    "filename2 = askopenfilename() # show an \"Open\" dialog box and return the path to the selected file\n",
    "print(filename2)"
   ]
  },
  {
   "cell_type": "code",
   "execution_count": 7,
   "metadata": {
    "collapsed": false
   },
   "outputs": [
    {
     "data": {
      "text/plain": [
       "(137, 87, 7, 101)"
      ]
     },
     "execution_count": 7,
     "metadata": {},
     "output_type": "execute_result"
    }
   ],
   "source": [
    "img1 = nb.load(filename2)\n",
    "data = img1.get_data()\n",
    "S=data.shape\n",
    "S"
   ]
  },
  {
   "cell_type": "markdown",
   "metadata": {},
   "source": [
    "Z-score"
   ]
  },
  {
   "cell_type": "code",
   "execution_count": 8,
   "metadata": {
    "collapsed": false
   },
   "outputs": [],
   "source": [
    "Demean=np.zeros(S)\n",
    "Dmaps=np.zeros(S)\n",
    "Dvar=np.zeros(S)\n",
    "Var=np.zeros(S[3])\n",
    "D2=np.zeros([S[0],S[1],5,S[3]])\n",
    "Tvar=np.zeros(S[3])"
   ]
  },
  {
   "cell_type": "code",
   "execution_count": 9,
   "metadata": {
    "collapsed": false
   },
   "outputs": [],
   "source": [
    "for i in range(S[3]):\n",
    "    Demean[:,:,:,i]=data[:,:,:,i]-np.mean(np.mean(np.mean(data[:,:,:,i],0),0),0)"
   ]
  },
  {
   "cell_type": "code",
   "execution_count": 10,
   "metadata": {
    "collapsed": false
   },
   "outputs": [],
   "source": [
    "for i in range(S[3]):\n",
    "    Dsq=np.reshape(Demean[:,:,:,i],S[0]*S[1]*S[2])\n",
    "    Var[i]=np.sqrt(np.var(Dsq))\n",
    "    Dvar=Demean[:,:,:,i]/Var[i]\n",
    "    Dmaps[:,:,:,i]=Dvar-2\n",
    "    Tvar[i]=np.var(DT[i,:])\n",
    "Dmaps[Dmaps<0]=0"
   ]
  },
  {
   "cell_type": "code",
   "execution_count": 11,
   "metadata": {
    "collapsed": false
   },
   "outputs": [
    {
     "name": "stdout",
     "output_type": "stream",
     "text": [
      "/media/sophie/db554c18-e3eb-41e2-afad-7de1c92bf4a5/THDDCGCaMP62/100135/100135Final/100135Xk.mat\n"
     ]
    }
   ],
   "source": [
    "# from http://stackoverflow.com/questions/3579568/choosing-a-file-in-python-with-simple-dialog\n",
    "Tk().withdraw() # we don't want a full GUI, so keep the root window from appearing\n",
    "filename = askopenfilename() # show an \"Open\" dialog box and return the path to the selected file\n",
    "print(filename)"
   ]
  },
  {
   "cell_type": "code",
   "execution_count": 12,
   "metadata": {
    "collapsed": true
   },
   "outputs": [],
   "source": [
    "Ua=sio.loadmat(filename)\n",
    "Xk=Ua['Xk']"
   ]
  },
  {
   "cell_type": "code",
   "execution_count": 13,
   "metadata": {
    "collapsed": false
   },
   "outputs": [
    {
     "name": "stdout",
     "output_type": "stream",
     "text": [
      "/media/sophie/db554c18-e3eb-41e2-afad-7de1c92bf4a5/THDDCGCaMP62/100135/100135Final/AVG_100135ss2c500regcdFF20sMpsfkfintminmask.nii\n"
     ]
    },
    {
     "data": {
      "text/plain": [
       "(137, 87, 7)"
      ]
     },
     "execution_count": 13,
     "metadata": {},
     "output_type": "execute_result"
    }
   ],
   "source": [
    "# from http://stackoverflow.com/questions/3579568/choosing-a-file-in-python-with-simple-dialog\n",
    "from Tkinter import Tk\n",
    "from tkFileDialog import askopenfilename\n",
    "\n",
    "Tk().withdraw() # we don't want a full GUI, so keep the root window from appearing\n",
    "filenamet = askopenfilename() # show an \"Open\" dialog box and return the path to the selected file\n",
    "print(filenamet)\n",
    "nimt=nb.load(filenamet)\n",
    "Dtemp=np.squeeze(nimt.get_data())\n",
    "Dtemp.shape"
   ]
  },
  {
   "cell_type": "markdown",
   "metadata": {},
   "source": [
    "# Fit turns"
   ]
  },
  {
   "cell_type": "code",
   "execution_count": 14,
   "metadata": {
    "collapsed": false
   },
   "outputs": [
    {
     "data": {
      "application/javascript": [
       "IPython.OutputArea.auto_scroll_threshold =4000;"
      ],
      "text/plain": [
       "<IPython.core.display.Javascript object>"
      ]
     },
     "metadata": {},
     "output_type": "display_data"
    }
   ],
   "source": [
    "%%javascript\n",
    "IPython.OutputArea.auto_scroll_threshold =4000;"
   ]
  },
  {
   "cell_type": "code",
   "execution_count": 15,
   "metadata": {
    "collapsed": false
   },
   "outputs": [
    {
     "name": "stderr",
     "output_type": "stream",
     "text": [
      "/usr/local/lib/python2.7/dist-packages/numpy/lib/shape_base.py:422: VisibleDeprecationWarning: using a non-integer number instead of an integer will result in an error in the future\n",
      "  sub_arys.append(_nx.swapaxes(sary[st:end], axis, 0))\n"
     ]
    }
   ],
   "source": [
    "if S[2]>5:\n",
    "    Nstack=5\n",
    "    Int100=[(i+1)*100/Nstack for i in range(Nstack)]\n",
    "    Percs=np.percentile(range(S[2]),Int100)\n",
    "    Indices=np.split(range(S[2]),Percs)\n",
    "    D1=np.zeros([S[0],S[1],Nstack])\n",
    "    Dmean=np.squeeze(data[:,:,range(Nstack),2])\n",
    "    for i in range(Nstack):\n",
    "        Vmean=np.mean(Dtemp[:,:,Indices[i]],2)\n",
    "        Dmean[:,:,i]=Vmean\n",
    "else:\n",
    "    Nstack=S[2]\n",
    "    D1=np.zeros([S[0],S[1],S[2]])\n",
    "    Dmean=data[:,:,range(S[2])]  \n",
    "    Dmean=np.squeeze(Dtemp[:,:,:])"
   ]
  },
  {
   "cell_type": "code",
   "execution_count": 16,
   "metadata": {
    "collapsed": true
   },
   "outputs": [],
   "source": [
    "for j in range(S[3]):\n",
    "\n",
    "    a=''\n",
    "    if S[2]>5:\n",
    "        for i in range(Nstack):\n",
    "            V=Dmaps[:,:,Indices[i],j]\n",
    "            D1[:,:,i]=np.max(V,2)\n",
    "        D2[:,:,:,j]=D1\n",
    "        D1[D1==0]=np.nan"
   ]
  },
  {
   "cell_type": "code",
   "execution_count": 17,
   "metadata": {
    "collapsed": false
   },
   "outputs": [
    {
     "data": {
      "text/plain": [
       "<matplotlib.image.AxesImage at 0x7f4a4b772650>"
      ]
     },
     "execution_count": 17,
     "metadata": {},
     "output_type": "execute_result"
    },
    {
     "data": {
      "image/png": "[encoded data removed]",
      "text/plain": [
       "<matplotlib.figure.Figure at 0x7f4a4af78490>"
      ]
     },
     "metadata": {},
     "output_type": "display_data"
    }
   ],
   "source": [
    "plt.imshow(Dmean[:,:,1],cmap=plt.cm.gray)"
   ]
  },
  {
   "cell_type": "code",
   "execution_count": 18,
   "metadata": {
    "collapsed": false
   },
   "outputs": [],
   "source": [
    "my_cmap=plt.cm.jet\n",
    "my_cmap.set_bad(alpha=0)\n",
    "Good_ICs=np.zeros(S[3])\n",
    "Label_ICs=[]\n",
    "pylab.rcParams['figure.figsize'] = (15, 2.5)"
   ]
  },
  {
   "cell_type": "code",
   "execution_count": 19,
   "metadata": {
    "collapsed": true
   },
   "outputs": [],
   "source": [
    "algorithm = linear_model.LinearRegression()"
   ]
  },
  {
   "cell_type": "code",
   "execution_count": 20,
   "metadata": {
    "collapsed": false
   },
   "outputs": [],
   "source": [
    "Sxk=Xk.shape"
   ]
  },
  {
   "cell_type": "code",
   "execution_count": 21,
   "metadata": {
    "collapsed": false
   },
   "outputs": [
    {
     "data": {
      "text/plain": [
       "(10183, 6)"
      ]
     },
     "execution_count": 21,
     "metadata": {},
     "output_type": "execute_result"
    }
   ],
   "source": [
    "Sxk"
   ]
  },
  {
   "cell_type": "code",
   "execution_count": 22,
   "metadata": {
    "collapsed": false
   },
   "outputs": [],
   "source": [
    "X=np.zeros((Sxk[0],2))"
   ]
  },
  {
   "cell_type": "code",
   "execution_count": 23,
   "metadata": {
    "collapsed": false
   },
   "outputs": [],
   "source": [
    "X[:,0]=(Xk[:,0]-np.mean(Xk[:,0]))/np.std(Xk[:,0])\n",
    "X[:,1]=(Xk[:,1]-np.mean(Xk[:,1]))/np.std(Xk[:,1])\n",
    "#X[:,2]=(Xk[:,3]-np.mean(Xk[:,3]))/np.std(Xk[:,3])\n",
    "#X[:,3]=(Xk[:,4]-np.mean(Xk[:,4]))/np.std(Xk[:,4])\n",
    "#X[:,4]=(Xk[:,6]-np.mean(Xk[:,6]))/np.std(Xk[:,6])\n",
    "#X[:,5]=(Xk[:,7]-np.mean(Xk[:,7]))/np.std(Xk[:,7])"
   ]
  },
  {
   "cell_type": "code",
   "execution_count": 46,
   "metadata": {
    "collapsed": false
   },
   "outputs": [
    {
     "ename": "ImportError",
     "evalue": "No module named sympy",
     "output_type": "error",
     "traceback": [
      "\u001b[0;31m---------------------------------------------------------------------------\u001b[0m",
      "\u001b[0;31mImportError\u001b[0m                               Traceback (most recent call last)",
      "\u001b[0;32m<ipython-input-46-f6f75f934722>\u001b[0m in \u001b[0;36m<module>\u001b[0;34m()\u001b[0m\n\u001b[0;32m----> 1\u001b[0;31m \u001b[0;32mfrom\u001b[0m \u001b[0msympy\u001b[0m \u001b[0;32mimport\u001b[0m \u001b[0;34m*\u001b[0m\u001b[0;34m\u001b[0m\u001b[0m\n\u001b[0m",
      "\u001b[0;31mImportError\u001b[0m: No module named sympy"
     ]
    }
   ],
   "source": [
    "from sympy import *"
   ]
  },
  {
   "cell_type": "code",
   "execution_count": 55,
   "metadata": {
    "collapsed": false
   },
   "outputs": [
    {
     "data": {
      "text/plain": [
       "10183"
      ]
     },
     "execution_count": 55,
     "metadata": {},
     "output_type": "execute_result"
    }
   ],
   "source": [
    "len(dX)"
   ]
  },
  {
   "cell_type": "code",
   "execution_count": 54,
   "metadata": {
    "collapsed": false
   },
   "outputs": [
    {
     "name": "stdout",
     "output_type": "stream",
     "text": [
      "(91,)\n"
     ]
    },
    {
     "data": {
      "image/png": "[encoded data removed]",
      "text/plain": [
       "<matplotlib.figure.Figure at 0x7f4a4b552a50>"
      ]
     },
     "metadata": {},
     "output_type": "display_data"
    }
   ],
   "source": [
    "dX=np.gradient(X,axis=0)\n",
    "plt.plot(dX[:,0])\n",
    "plt.plot(dX[:,1])\n",
    "\n",
    "#plt.plot(np.smooth(X[:,1]-X[:,0]))\n",
    "#plt.plot(X[:,2])\n",
    "#plt.plot(X[:,3])\n",
    "#plt.plot(X[:,4])\n",
    "#plt.plot(X[:,5])\n",
    "zero_crossings = np.where(np.diff(np.sign(X[:,1]-X[:,0])))[0]\n",
    "print(zero_crossings.shape)"
   ]
  },
  {
   "cell_type": "markdown",
   "metadata": {},
   "source": [
    "# Plot all components for turning left, right, walking, and grooming"
   ]
  },
  {
   "cell_type": "code",
   "execution_count": 25,
   "metadata": {
    "collapsed": false
   },
   "outputs": [],
   "source": [
    "Rsq=np.zeros((1,S[3]))\n",
    "Betas=np.zeros((2,S[3]))"
   ]
  },
  {
   "cell_type": "code",
   "execution_count": 26,
   "metadata": {
    "collapsed": false
   },
   "outputs": [
    {
     "data": {
      "text/plain": [
       "(10183, 2)"
      ]
     },
     "execution_count": 26,
     "metadata": {},
     "output_type": "execute_result"
    }
   ],
   "source": [
    "X.shape"
   ]
  },
  {
   "cell_type": "code",
   "execution_count": 27,
   "metadata": {
    "collapsed": false
   },
   "outputs": [
    {
     "data": {
      "text/plain": [
       "(10183, 101)"
      ]
     },
     "execution_count": 27,
     "metadata": {},
     "output_type": "execute_result"
    }
   ],
   "source": [
    "DT.shape"
   ]
  },
  {
   "cell_type": "code",
   "execution_count": 56,
   "metadata": {
    "collapsed": false
   },
   "outputs": [],
   "source": [
    "for j in range(S[3]):\n",
    "    model = algorithm.fit(dX, DT[:,j])\n",
    "    Betas[:,j] = model.coef_\n",
    "    Rsq[:,j] = model.score(dX,DT[:,j])"
   ]
  },
  {
   "cell_type": "code",
   "execution_count": 57,
   "metadata": {
    "collapsed": true
   },
   "outputs": [],
   "source": [
    "RsqUni=np.zeros((6,S[3]))\n",
    "BetaUni=np.zeros((6,S[3]))"
   ]
  },
  {
   "cell_type": "code",
   "execution_count": 58,
   "metadata": {
    "collapsed": false
   },
   "outputs": [],
   "source": [
    "Sx=X.shape"
   ]
  },
  {
   "cell_type": "code",
   "execution_count": 59,
   "metadata": {
    "collapsed": false
   },
   "outputs": [],
   "source": [
    "for k in range(2):\n",
    "    for j in range(S[3]):\n",
    "        model = algorithm.fit(np.reshape(X[:,k],(Sx[0],1)), DT[:,j])\n",
    "        BetaUni[k,j] = model.coef_\n",
    "        RsqUni[k,j] = model.score(np.reshape(X[:,k],(Sx[0],1)),DT[:,j])\n",
    "    "
   ]
  },
  {
   "cell_type": "code",
   "execution_count": 60,
   "metadata": {
    "collapsed": false
   },
   "outputs": [
    {
     "data": {
      "text/plain": [
       "[<matplotlib.lines.Line2D at 0x7f4a3e29c9d0>]"
      ]
     },
     "execution_count": 60,
     "metadata": {},
     "output_type": "execute_result"
    },
    {
     "data": {
      "image/png": "[encoded data removed]",
      "text/plain": [
       "<matplotlib.figure.Figure at 0x7f4a3e49a310>"
      ]
     },
     "metadata": {},
     "output_type": "display_data"
    }
   ],
   "source": [
    "plt.plot(RsqUni[0,:])"
   ]
  },
  {
   "cell_type": "code",
   "execution_count": 61,
   "metadata": {
    "collapsed": false
   },
   "outputs": [],
   "source": [
    "import random"
   ]
  },
  {
   "cell_type": "code",
   "execution_count": 62,
   "metadata": {
    "collapsed": false
   },
   "outputs": [],
   "source": [
    "del Final_map\n",
    "del Fmaps"
   ]
  },
  {
   "cell_type": "code",
   "execution_count": 71,
   "metadata": {
    "collapsed": true
   },
   "outputs": [],
   "source": [
    "if S[2]>5:\n",
    "    Final_map=np.zeros([S[0],S[1],5,3])\n",
    "    Fmaps=np.zeros([S[0],S[1],5,3])\n",
    "else:\n",
    "    Final_map=np.zeros([S[0],S[1],3]) \n",
    "    Fmaps=np.zeros([S[0],S[1],3])    \n",
    "C=np.zeros([S[3],3])\n",
    "C1=np.zeros([6,3])\n",
    "C1[0][:]=(1,0,0)\n",
    "C1[1][:]=(0,1,0)\n",
    "C1[2][:]=(0,0,1)\n",
    "C1[3][:]=(0.8,0.8,0)\n",
    "C1[4][:]=(0,1,1)\n",
    "C1[5][:]=(1,0,1)\n",
    "S1=DT.shape"
   ]
  },
  {
   "cell_type": "code",
   "execution_count": 72,
   "metadata": {
    "collapsed": false
   },
   "outputs": [
    {
     "name": "stdout",
     "output_type": "stream",
     "text": [
      "2\n",
      "[ 0.00184967]\n",
      "6\n",
      "[ 0.0005903]\n",
      "12\n",
      "[ 0.00087989]\n",
      "13\n",
      "[ 0.00125268]\n",
      "15\n",
      "[ 0.00114447]\n",
      "48\n",
      "[ 0.00271802]\n"
     ]
    }
   ],
   "source": [
    "C=np.zeros((S[3],3))\n",
    "i=0\n",
    "l=0\n",
    "Betas2=Betas\n",
    "for j in range(S[3]):  \n",
    "    if Betas2[0,j]>0.6*np.max(Betas2[0,:]):\n",
    "    #if 1>0.1:\n",
    "        #C[j,:]=C1[i%6][:]\n",
    "        C[j,2]=1\n",
    "        C[j,1]=random.uniform(0,1)\n",
    "        #C[j,2]=1\n",
    "        for k in range(3):           \n",
    "            M=np.max(np.squeeze(np.reshape(D2[:,:,:,j],S[0]*S[1]*5)))\n",
    "            Fmaps[:,:,:,k]=0.8*D2[:,:,:,j]*C[j,k]/M\n",
    "        Final_map=Final_map+Fmaps\n",
    "        #Betas[0,j]=0\n",
    "        #print(Indexo[j])\n",
    "        print(j+1)\n",
    "        i=i+1\n",
    "        l=l+1\n",
    "        print(Rsq[:,j])        \n",
    "        #if l==2:\n",
    "            #break\n",
    "    "
   ]
  },
  {
   "cell_type": "code",
   "execution_count": 73,
   "metadata": {
    "collapsed": false
   },
   "outputs": [
    {
     "name": "stdout",
     "output_type": "stream",
     "text": [
      "1\n",
      "2\n"
     ]
    }
   ],
   "source": [
    "C=np.zeros((S[3],3))\n",
    "i=0\n",
    "l=0\n",
    "Betas2=Betas\n",
    "for j in range(S[3]):  \n",
    "    if Betas2[1,j]>0.6*np.max(Betas2[1,:]):\n",
    "    #if 1>0.1:\n",
    "        #C[j,:]=C1[i%6][:]\n",
    "        C[j,0]=1\n",
    "        C[j,1]=random.uniform(0,1)\n",
    "        #C[j,2]=1\n",
    "        for k in range(3):           \n",
    "            M=np.max(np.squeeze(np.reshape(D2[:,:,:,j],S[0]*S[1]*5)))\n",
    "            Fmaps[:,:,:,k]=0.8*D2[:,:,:,j]*C[j,k]/M\n",
    "        Final_map=Final_map+Fmaps\n",
    "        #Betas2[1,j]=0\n",
    "        #print(Indexo[j])\n",
    "        i=i+1\n",
    "        l=l+1\n",
    "        print(j+1)\n",
    "        #if l==2:\n",
    "         #   break"
   ]
  },
  {
   "cell_type": "code",
   "execution_count": 74,
   "metadata": {
    "collapsed": false
   },
   "outputs": [
    {
     "data": {
      "image/png": "[encoded data removed]",
      "text/plain": [
       "<matplotlib.figure.Figure at 0x7f4a4b3ecf90>"
      ]
     },
     "metadata": {},
     "output_type": "display_data"
    }
   ],
   "source": [
    "pylab.rcParams['figure.figsize'] = (15, 6)\n",
    "C2=np.zeros(3)\n",
    "\n",
    "Df=np.zeros([S[0],S[1],5,3]) \n",
    "  \n",
    "for i in range(3):\n",
    "    Df[:,:,:,i]=Final_map[:,:,:,i]+Dmean/30\n",
    "    #Df=Df/(np.max(np.max(np.max(Df),3)))\n",
    "if S[2]>5:\n",
    "    N=Nstack\n",
    "else:\n",
    "    N=S[2]\n",
    "for i in range(N):\n",
    "    #if Good_ICs[j]:\n",
    "        plt.subplot(1,N,i+1)\n",
    "        plt.imshow(Df[:,:,i],cmap=plt.cm.gray)\n",
    "        plt.imshow(Df[:,:,i,:],cmap=my_cmap,interpolation='none')\n",
    "        frame1 = plt.gca()\n",
    "        frame1.axes.get_xaxis().set_visible(False)\n",
    "        frame1.axes.get_yaxis().set_visible(False)\n",
    "plt.tight_layout(pad=0,w_pad=0,h_pad=0)"
   ]
  },
  {
   "cell_type": "code",
   "execution_count": 45,
   "metadata": {
    "collapsed": false
   },
   "outputs": [
    {
     "name": "stdout",
     "output_type": "stream",
     "text": [
      "3\n",
      "4\n",
      "5\n"
     ]
    },
    {
     "data": {
      "image/png": "[encoded data removed]",
      "text/plain": [
       "<matplotlib.figure.Figure at 0x7f4a4b3f5350>"
      ]
     },
     "metadata": {},
     "output_type": "display_data"
    }
   ],
   "source": [
    "del Final_map\n",
    "del Fmaps\n",
    "\n",
    "if S[2]>5:\n",
    "    Final_map=np.zeros([S[0],S[1],5,3])\n",
    "    Fmaps=np.zeros([S[0],S[1],5,3])\n",
    "else:\n",
    "    Final_map=np.zeros([S[0],S[1],3]) \n",
    "    Fmaps=np.zeros([S[0],S[1],3])    \n",
    "C=np.zeros([S[3],3])\n",
    "C1=np.zeros([6,3])\n",
    "C1[0][:]=(1,0,0)\n",
    "C1[1][:]=(0,1,0)\n",
    "C1[2][:]=(0,0,1)\n",
    "C1[3][:]=(0.8,0.8,0)\n",
    "C1[4][:]=(0,1,1)\n",
    "C1[5][:]=(1,0,1)\n",
    "S1=DT.shape\n",
    "\n",
    "C=np.zeros((S[3],3))\n",
    "i=1\n",
    "l=0\n",
    "Betas2=Betas\n",
    "for j in range(2,S[3]):  \n",
    "    if Betas2[0,j]>0.6*np.max(Betas2[0,:]):\n",
    "    #if 1>0.1:\n",
    "        #C[j,:]=C1[i%6][:]\n",
    "        C[j,2]=1\n",
    "        C[j,1]=1-i/2\n",
    "        #C[j,2]=1\n",
    "        for k in range(3):           \n",
    "            M=np.max(np.squeeze(np.reshape(D2[:,:,:,j],S[0]*S[1]*5)))\n",
    "            Fmaps[:,:,:,k]=0.75*D2[:,:,:,j]*C[j,k]/M\n",
    "        Final_map=Final_map+Fmaps\n",
    "        #Betas[0,j]=0\n",
    "        #print(Indexo[j])\n",
    "        i=i+1\n",
    "        l=l+1\n",
    "        print(j+1)\n",
    "        #if l==2:\n",
    "            #break\n",
    "    \n",
    "\n",
    "C=np.zeros((S[3],3))\n",
    "i=1\n",
    "l=0\n",
    "Betas2=Betas\n",
    "for j in range(2,S[3]):  \n",
    "    if Betas2[1,j]>0.6*np.max(Betas2[1,:]):\n",
    "    #if 1>0.1:\n",
    "        #C[j,:]=C1[i%6][:]\n",
    "        C[j,0]=1\n",
    "        C[j,1]=i/2\n",
    "        #C[j,2]=1\n",
    "        for k in range(3):           \n",
    "            M=np.max(np.squeeze(np.reshape(D2[:,:,:,j],S[0]*S[1]*5)))\n",
    "            Fmaps[:,:,:,k]=0.75*D2[:,:,:,j]*C[j,k]/M\n",
    "        Final_map=Final_map+Fmaps\n",
    "        #Betas2[1,j]=0\n",
    "        #print(Indexo[j])\n",
    "        i=i+1\n",
    "        l=l+1\n",
    "        print(j+1)\n",
    "        #if l==2:\n",
    "         #   break\n",
    "\n",
    "pylab.rcParams['figure.figsize'] = (15, 6)\n",
    "C2=np.zeros(3)\n",
    "\n",
    "Df=np.zeros([S[0],S[1],5,3]) \n",
    "  \n",
    "for i in range(3):\n",
    "    Df[:,:,:,i]=Final_map[:,:,:,i]+Dmean/30\n",
    "    #Df=Df/(np.max(np.max(np.max(Df),3)))\n",
    "if S[2]>5:\n",
    "    N=Nstack\n",
    "else:\n",
    "    N=S[2]\n",
    "for i in range(N):\n",
    "    #if Good_ICs[j]:\n",
    "        plt.subplot(1,N,i+1)\n",
    "        plt.imshow(Df[:,:,i],cmap=plt.cm.gray)\n",
    "        plt.imshow(Df[:,:,i,:],cmap=my_cmap,interpolation='none')\n",
    "        frame1 = plt.gca()\n",
    "        frame1.axes.get_xaxis().set_visible(False)\n",
    "        frame1.axes.get_yaxis().set_visible(False)\n",
    "plt.tight_layout(pad=0,w_pad=0,h_pad=0)"
   ]
  },
  {
   "cell_type": "code",
   "execution_count": null,
   "metadata": {
    "collapsed": true
   },
   "outputs": [],
   "source": []
  }
 ],
 "metadata": {
  "kernelspec": {
   "display_name": "Python 2",
   "language": "python",
   "name": "python2"
  },
  "language_info": {
   "codemirror_mode": {
    "name": "ipython",
    "version": 2
   },
   "file_extension": ".py",
   "mimetype": "text/x-python",
   "name": "python",
   "nbconvert_exporter": "python",
   "pygments_lexer": "ipython2",
   "version": "2.7.12"
  }
 },
 "nbformat": 4,
 "nbformat_minor": 0
}
