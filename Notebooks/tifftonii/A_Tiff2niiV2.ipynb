{
 "cells": [
  {
   "cell_type": "code",
   "execution_count": 1,
   "metadata": {
    "collapsed": false,
    "scrolled": true
   },
   "outputs": [],
   "source": [
    "from skimage import io\n",
    "import nibabel as nib\n",
    "import os\n",
    "import numpy as np\n",
    "import re\n",
    "import scipy.io as sio\n",
    "import scipy.optimize\n",
    "from Tkinter import Tk\n",
    "from tkFileDialog import askopenfilename\n",
    "from tkFileDialog import askdirectory\n",
    "import matplotlib.pyplot as plt\n",
    "import subprocess\n",
    "%matplotlib inline"
   ]
  },
  {
   "cell_type": "markdown",
   "metadata": {},
   "source": [
    "# Import data from cluster"
   ]
  },
  {
   "cell_type": "code",
   "execution_count": 3,
   "metadata": {
    "collapsed": false
   },
   "outputs": [
    {
     "name": "stdout",
     "output_type": "stream",
     "text": [
      "/media/sophie/1554f3a2-94a1-4cf8-ae79-8a6fef1b5f7e/100732ss1\n"
     ]
    }
   ],
   "source": [
    "Tk().withdraw() # we don't want a full GUI, so keep the root window from appearing\n",
    "foldername = askdirectory() # show an \"Open\" dialog box and return the path to the selected file\n",
    "print(foldername)"
   ]
  },
  {
   "cell_type": "code",
   "execution_count": 4,
   "metadata": {
    "collapsed": true
   },
   "outputs": [],
   "source": [
    "path=foldername"
   ]
  },
  {
   "cell_type": "code",
   "execution_count": 5,
   "metadata": {
    "collapsed": false
   },
   "outputs": [],
   "source": [
    "Dataname=path.split('/')[-1]"
   ]
  },
  {
   "cell_type": "code",
   "execution_count": 6,
   "metadata": {
    "collapsed": false
   },
   "outputs": [
    {
     "data": {
      "text/plain": [
       "'100732ss1'"
      ]
     },
     "execution_count": 6,
     "metadata": {},
     "output_type": "execute_result"
    }
   ],
   "source": [
    "Dataname"
   ]
  },
  {
   "cell_type": "markdown",
   "metadata": {},
   "source": [
    "# Open the images"
   ]
  },
  {
   "cell_type": "code",
   "execution_count": 7,
   "metadata": {
    "collapsed": false,
    "scrolled": true
   },
   "outputs": [
    {
     "data": {
      "text/plain": [
       "(30, 103, 105)"
      ]
     },
     "execution_count": 7,
     "metadata": {},
     "output_type": "execute_result"
    }
   ],
   "source": [
    "tt = io.imread(path+'/'+Dataname+'-0010.tif') \n",
    "S=tt.shape\n",
    "S"
   ]
  },
  {
   "cell_type": "code",
   "execution_count": 8,
   "metadata": {
    "collapsed": true
   },
   "outputs": [],
   "source": [
    "file_name_list = sorted(os.listdir(path))"
   ]
  },
  {
   "cell_type": "markdown",
   "metadata": {},
   "source": [
    "Use the one below to avoid indexing problems"
   ]
  },
  {
   "cell_type": "code",
   "execution_count": 9,
   "metadata": {
    "collapsed": false,
    "scrolled": true
   },
   "outputs": [
    {
     "name": "stdout",
     "output_type": "stream",
     "text": [
      "CPU times: user 1min 31s, sys: 8.74 s, total: 1min 40s\n",
      "Wall time: 1min 40s\n"
     ]
    }
   ],
   "source": [
    "%%time\n",
    "data=np.zeros([S[0],S[1],S[2],len(file_name_list)])\n",
    "for i,image_file in enumerate(sorted(file_name_list)):\n",
    "    #print(i)\n",
    "    tt = io.imread(path+'/'+image_file)\n",
    "    data[:,:,:,i]=tt[:][:][:]\n",
    "    "
   ]
  },
  {
   "cell_type": "markdown",
   "metadata": {
    "collapsed": false
   },
   "source": [
    "%%time\n",
    "#file_name_list = os.listdir(path)\n",
    "data=np.zeros([S[0],S[1],S[2],len(file_name_list)])\n",
    "i=0\n",
    "for j in range(30):\n",
    "#for j in range(len(file_name_list)):       \n",
    "#for fn in os.listdir(path):\n",
    "    tt = io.imread(path+'/'+Dataname+'-'+str(i+1).zfill(5)+'.tif') \n",
    "    if os.path.exists(path+'/'+Dataname+'-'+str(j).zfill(5)+'.tif'):\n",
    "        #print path+'/'+Dataname+'-'+str(j).zfill(5)+'.tif'\n",
    "        tt = io.imread(path+'/'+Dataname+'-'+str(j).zfill(5)+'.tif')\n",
    "        data[:,:,:,i]=tt[:][:][:]\n",
    "        i=i+1"
   ]
  },
  {
   "cell_type": "code",
   "execution_count": 10,
   "metadata": {
    "collapsed": false
   },
   "outputs": [
    {
     "data": {
      "text/plain": [
       "(30, 103, 105, 5450)"
      ]
     },
     "execution_count": 10,
     "metadata": {},
     "output_type": "execute_result"
    }
   ],
   "source": [
    "data.shape"
   ]
  },
  {
   "cell_type": "code",
   "execution_count": 10,
   "metadata": {
    "collapsed": false
   },
   "outputs": [
    {
     "data": {
      "image/png": "[encoded data removed]",
      "text/plain": [
       "<matplotlib.figure.Figure at 0x7f460192d610>"
      ]
     },
     "metadata": {},
     "output_type": "display_data"
    }
   ],
   "source": [
    "plt.show()\n",
    "plt.imshow(data[5,:,:,10],interpolation='none')\n",
    "plt.show()"
   ]
  },
  {
   "cell_type": "code",
   "execution_count": null,
   "metadata": {
    "collapsed": false,
    "scrolled": true
   },
   "outputs": [],
   "source": [
    "%%time\n",
    "#file_name_list = os.listdir(path)\n",
    "data=np.zeros([S[0],S[1],S[2],len(file_name_list)])\n",
    "i=0\n",
    "#for j in range(30):\n",
    "for j in range(len(file_name_list)):       \n",
    "#for fn in os.listdir(path):\n",
    "    #tt = io.imread(path+'/'+Dataname+'-'+str(i+1).zfill(5)+'.tif') \n",
    "    \n",
    "    #if os.path.exists(path+'/'+Dataname+'-'+str(j).zfill(5)+'.tif'):\n",
    "    if os.path.exists(path+'/'+Dataname+'-'+str(j)+'.tif'):\n",
    "        #print path+'/'+Dataname+'-'+str(j).zfill(5)+'.tif'\n",
    "        tt = io.imread(path+'/'+Dataname+'-'+str(j)+'.tif')\n",
    "        #tt = io.imread(path+'/'+Dataname+'-'+str(j).zfill(5)+'.tif')\n",
    "        data[:,:,:,i]=tt[:][:][:]\n",
    "        i=i+1"
   ]
  },
  {
   "cell_type": "code",
   "execution_count": null,
   "metadata": {
    "collapsed": false
   },
   "outputs": [],
   "source": [
    "data.shape\n"
   ]
  },
  {
   "cell_type": "markdown",
   "metadata": {},
   "source": [
    "# Find end of onset of light and begining of offset (to align to behavior) "
   ]
  },
  {
   "cell_type": "markdown",
   "metadata": {},
   "source": [
    "Calculate average time series"
   ]
  },
  {
   "cell_type": "code",
   "execution_count": 11,
   "metadata": {
    "collapsed": false
   },
   "outputs": [
    {
     "data": {
      "text/plain": [
       "[<matplotlib.lines.Line2D at 0x7fa015c25410>]"
      ]
     },
     "execution_count": 11,
     "metadata": {},
     "output_type": "execute_result"
    },
    {
     "data": {
      "image/png": "[encoded data removed]",
      "text/plain": [
       "<matplotlib.figure.Figure at 0x7fa39469a890>"
      ]
     },
     "metadata": {},
     "output_type": "display_data"
    }
   ],
   "source": [
    "M=np.mean(np.mean(np.mean(data,0),0),0)\n",
    "Mav=M.mean()\n",
    "plt.title('Mean_intensity_profile')\n",
    "plt.plot(M,'+')"
   ]
  },
  {
   "cell_type": "markdown",
   "metadata": {},
   "source": [
    "### Get approximate on and off times"
   ]
  },
  {
   "cell_type": "code",
   "execution_count": 12,
   "metadata": {
    "collapsed": false
   },
   "outputs": [
    {
     "data": {
      "text/plain": [
       "209"
      ]
     },
     "execution_count": 12,
     "metadata": {},
     "output_type": "execute_result"
    }
   ],
   "source": [
    "liston=[i for i in range(len(M)) if M[i]>Mav*0.8]\n",
    "liston[0]"
   ]
  },
  {
   "cell_type": "markdown",
   "metadata": {},
   "source": [
    "### Model for fitting onset and offset"
   ]
  },
  {
   "cell_type": "code",
   "execution_count": 13,
   "metadata": {
    "collapsed": true
   },
   "outputs": [],
   "source": [
    "def model(x,a,b,c,d):\n",
    "    if x<a:\n",
    "        return b\n",
    "    elif x<c:\n",
    "        return b+(x-a)*d\n",
    "    else:\n",
    "        return (c-a)*d+b"
   ]
  },
  {
   "cell_type": "markdown",
   "metadata": {},
   "source": [
    "### Model onset and find precise onset time"
   ]
  },
  {
   "cell_type": "code",
   "execution_count": 14,
   "metadata": {
    "collapsed": true
   },
   "outputs": [],
   "source": [
    "Ms=M[range(liston[0]-8,liston[0]+8)]"
   ]
  },
  {
   "cell_type": "code",
   "execution_count": 15,
   "metadata": {
    "collapsed": true
   },
   "outputs": [],
   "source": [
    "def Sq(X):\n",
    "    return sum([(model(i,X[0],X[1],X[2],X[3])-Ms[i])**2 for i in range(len(Ms))])   "
   ]
  },
  {
   "cell_type": "code",
   "execution_count": 16,
   "metadata": {
    "collapsed": false
   },
   "outputs": [
    {
     "name": "stdout",
     "output_type": "stream",
     "text": [
      "208.995938686\n"
     ]
    }
   ],
   "source": [
    "res = scipy.optimize.minimize(Sq,x0=[7,0.3,9,0.7])\n",
    "ON=liston[0]-8+res.x[2]\n",
    "print(ON)"
   ]
  },
  {
   "cell_type": "code",
   "execution_count": 21,
   "metadata": {
    "collapsed": false,
    "scrolled": true
   },
   "outputs": [
    {
     "name": "stdout",
     "output_type": "stream",
     "text": [
      "209\n"
     ]
    },
    {
     "data": {
      "image/png": "[encoded data removed]",
      "text/plain": [
       "<matplotlib.figure.Figure at 0x7f4601841cd0>"
      ]
     },
     "metadata": {},
     "output_type": "display_data"
    }
   ],
   "source": [
    "ONint=np.int(np.ceil(ON))\n",
    "print(ONint)\n",
    "plt.plot(np.squeeze(M[range(liston[0]-8,liston[0]+8)]),'+')\n",
    "plt.plot(np.arange(0,len(Ms),0.1),[model(i,res.x[0],res.x[1],res.x[2],res.x[3]) for i in np.arange(0,len(Ms),0.1)])\n",
    "plt.title('Fit_light_on')\n",
    "plt.show()"
   ]
  },
  {
   "cell_type": "markdown",
   "metadata": {},
   "source": [
    "Model offset and find precise offset time"
   ]
  },
  {
   "cell_type": "code",
   "execution_count": 18,
   "metadata": {
    "collapsed": false,
    "scrolled": false
   },
   "outputs": [
    {
     "ename": "IndexError",
     "evalue": "index 2089 is out of bounds for axis 1 with size 2089",
     "output_type": "error",
     "traceback": [
      "\u001b[0;31m---------------------------------------------------------------------------\u001b[0m",
      "\u001b[0;31mIndexError\u001b[0m                                Traceback (most recent call last)",
      "\u001b[0;32m<ipython-input-18-1681dbad9bf7>\u001b[0m in \u001b[0;36m<module>\u001b[0;34m()\u001b[0m\n\u001b[0;32m----> 1\u001b[0;31m \u001b[0mMs\u001b[0m\u001b[0;34m=\u001b[0m\u001b[0mM\u001b[0m\u001b[0;34m[\u001b[0m\u001b[0mrange\u001b[0m\u001b[0;34m(\u001b[0m\u001b[0mliston\u001b[0m\u001b[0;34m[\u001b[0m\u001b[0mlen\u001b[0m\u001b[0;34m(\u001b[0m\u001b[0mliston\u001b[0m\u001b[0;34m)\u001b[0m\u001b[0;34m-\u001b[0m\u001b[0;36m1\u001b[0m\u001b[0;34m]\u001b[0m\u001b[0;34m-\u001b[0m\u001b[0;36m6\u001b[0m\u001b[0;34m,\u001b[0m\u001b[0mliston\u001b[0m\u001b[0;34m[\u001b[0m\u001b[0mlen\u001b[0m\u001b[0;34m(\u001b[0m\u001b[0mliston\u001b[0m\u001b[0;34m)\u001b[0m\u001b[0;34m-\u001b[0m\u001b[0;36m1\u001b[0m\u001b[0;34m]\u001b[0m\u001b[0;34m+\u001b[0m\u001b[0;36m6\u001b[0m\u001b[0;34m)\u001b[0m\u001b[0;34m]\u001b[0m\u001b[0;34m\u001b[0m\u001b[0m\n\u001b[0m",
      "\u001b[0;31mIndexError\u001b[0m: index 2089 is out of bounds for axis 1 with size 2089"
     ]
    }
   ],
   "source": [
    "Ms=M[range(liston[len(liston)-1]-6,liston[len(liston)-1]+6)]"
   ]
  },
  {
   "cell_type": "code",
   "execution_count": null,
   "metadata": {
    "collapsed": true
   },
   "outputs": [],
   "source": [
    "def Sq(X):\n",
    "    return sum([(model(i,X[0],X[1],X[2],X[3])-Ms[i])**2 for i in range(len(Ms))]) "
   ]
  },
  {
   "cell_type": "code",
   "execution_count": null,
   "metadata": {
    "collapsed": true
   },
   "outputs": [],
   "source": [
    "res = scipy.optimize.minimize(Sq,x0=[6,3,8,-1])"
   ]
  },
  {
   "cell_type": "code",
   "execution_count": 19,
   "metadata": {
    "collapsed": false,
    "scrolled": true
   },
   "outputs": [
    {
     "name": "stdout",
     "output_type": "stream",
     "text": [
      "2088\n",
      "2088\n"
     ]
    }
   ],
   "source": [
    "OFF=liston[len(liston)-1]-6+res.x[0]\n",
    "OFF=liston[len(liston)-1]\n",
    "print(OFF)\n",
    "OFFint=np.int(np.floor(OFF))\n",
    "print(OFFint)"
   ]
  },
  {
   "cell_type": "code",
   "execution_count": null,
   "metadata": {
    "collapsed": false,
    "scrolled": true
   },
   "outputs": [],
   "source": [
    "plt.plot(np.squeeze(Ms),'+')\n",
    "plt.plot(np.arange(0,len(Ms),0.1),[model(i,res.x[0],res.x[1],res.x[2],res.x[3]) for i in np.arange(0,len(Ms),0.1)])\n",
    "plt.title('Fit_light_off')\n",
    "plt.show()"
   ]
  },
  {
   "cell_type": "code",
   "execution_count": null,
   "metadata": {
    "collapsed": false
   },
   "outputs": [],
   "source": [
    "data.shape"
   ]
  },
  {
   "cell_type": "markdown",
   "metadata": {},
   "source": [
    "# Open images times"
   ]
  },
  {
   "cell_type": "code",
   "execution_count": null,
   "metadata": {
    "collapsed": false,
    "scrolled": true
   },
   "outputs": [],
   "source": [
    "for f in os.listdir('/home/sophie/Downloads/csvs'):\n",
    "    if Dataname[:6] in f:\n",
    "        if f.endswith('csv'):\n",
    "            TimeFile='/home/sophie/Downloads/csvs/Data'+Dataname[:6]+'_.csv'\n",
    "            Listfile = open(TimeFile, 'r')\n",
    "            ListTime = [line.split('\\n')[0] for line in Listfile.readlines()]\n",
    "            Timespl=[float(ListTime[i].split(',')[2]) for i in range(1,len(ListTime))]\n",
    "        elif \"Original\" or \"Info\" in f:\n",
    "            TimeFile='/home/sophie/Downloads/csvs/'+f\n",
    "            with open(TimeFile, 'r') as metafile:\n",
    "                lines = metafile.readlines()\n",
    "            time_from_start_list = []\n",
    "            for line in lines:\n",
    "                if \"Time_From_Start\" in line:\n",
    "                    split_line = line.replace('\\t', ' ').replace(' = ', ' ').strip().split(' ')\n",
    "                    time_from_start_list.append((int(split_line[1]),float(split_line[3])))\n",
    "            Timespl = list(zip(*sorted(time_from_start_list))[1])\n",
    "            "
   ]
  },
  {
   "cell_type": "code",
   "execution_count": null,
   "metadata": {
    "collapsed": false
   },
   "outputs": [],
   "source": [
    "S"
   ]
  },
  {
   "cell_type": "markdown",
   "metadata": {},
   "source": [
    "# Get times corresponding to images during light on (excitation light completely on : t=0)"
   ]
  },
  {
   "cell_type": "code",
   "execution_count": null,
   "metadata": {
    "collapsed": false
   },
   "outputs": [],
   "source": [
    "print(ONint)\n",
    "print(OFFint)\n",
    "#print(ON)"
   ]
  },
  {
   "cell_type": "code",
   "execution_count": null,
   "metadata": {
    "collapsed": false
   },
   "outputs": [],
   "source": [
    "(11974-498)*0.05"
   ]
  },
  {
   "cell_type": "code",
   "execution_count": null,
   "metadata": {
    "collapsed": false
   },
   "outputs": [],
   "source": [
    "len(Timespl)"
   ]
  },
  {
   "cell_type": "code",
   "execution_count": null,
   "metadata": {
    "collapsed": false
   },
   "outputs": [],
   "source": [
    "TimeOn=[Timespl[i] for i in range(ONint,(OFFint+1))]\n",
    "Tinit=(ON-(ONint-1))*(Timespl[ONint]-Timespl[ONint-1])+Timespl[ONint-1]\n",
    "Toff=(OFFint+1-OFF)*(Timespl[OFFint+1]-Timespl[OFFint])+Timespl[OFFint]\n",
    "Toff-Tinit"
   ]
  },
  {
   "cell_type": "code",
   "execution_count": null,
   "metadata": {
    "collapsed": false
   },
   "outputs": [],
   "source": [
    "Timespl[ONint]-Timespl[ONint-1]"
   ]
  },
  {
   "cell_type": "code",
   "execution_count": null,
   "metadata": {
    "collapsed": false
   },
   "outputs": [],
   "source": [
    "TimeOn[0]-Tinit"
   ]
  },
  {
   "cell_type": "code",
   "execution_count": null,
   "metadata": {
    "collapsed": false
   },
   "outputs": [],
   "source": [
    "Dataname[:6]"
   ]
  },
  {
   "cell_type": "code",
   "execution_count": null,
   "metadata": {
    "collapsed": true
   },
   "outputs": [],
   "source": [
    "TimeOnFinal=np.array(TimeOn)-Tinit"
   ]
  },
  {
   "cell_type": "code",
   "execution_count": null,
   "metadata": {
    "collapsed": true
   },
   "outputs": [],
   "source": [
    "sio.savemat('/home/sophie/Desktop/'+Dataname+'TimeFluoOn.mat', {'TimeFluoOn':TimeOnFinal})"
   ]
  },
  {
   "cell_type": "code",
   "execution_count": null,
   "metadata": {
    "collapsed": false
   },
   "outputs": [],
   "source": [
    "TotalTimeOn=Toff-Tinit"
   ]
  },
  {
   "cell_type": "code",
   "execution_count": null,
   "metadata": {
    "collapsed": false
   },
   "outputs": [],
   "source": [
    "sio.savemat('/home/sophie/Desktop/'+Dataname+'TotalTimeOn.mat', {'TotalTimeOn':TotalTimeOn})"
   ]
  },
  {
   "cell_type": "markdown",
   "metadata": {},
   "source": [
    "# Keep only the frames for which the excitation is on and save"
   ]
  },
  {
   "cell_type": "code",
   "execution_count": 12,
   "metadata": {
    "collapsed": false
   },
   "outputs": [],
   "source": [
    "#D4=np.transpose(data[:,:,:,range(ONint,(OFFint))],(2,1,0,3))\n",
    "D4=np.transpose(data,(2,1,0,3))\n",
    "\n",
    "#D4=np.transpose(data[:,:,:,range(ONint,40000)],(2,1,0,3))\n",
    "nim=nib.Nifti1Image(D4,np.eye(4))\n",
    "nib.save(nim,'/media/sophie/1554f3a2-94a1-4cf8-ae79-8a6fef1b5f7e/'+Dataname+'on.nii.gz')"
   ]
  },
  {
   "cell_type": "code",
   "execution_count": null,
   "metadata": {
    "collapsed": false
   },
   "outputs": [],
   "source": [
    "del data\n",
    "del D4"
   ]
  },
  {
   "cell_type": "markdown",
   "metadata": {},
   "source": [
    "# Movement Correction"
   ]
  },
  {
   "cell_type": "code",
   "execution_count": null,
   "metadata": {
    "collapsed": false
   },
   "outputs": [],
   "source": [
    "bashCommand = \"3dvolreg -prefix \"+\"/media/sophie/Elements/\"+Dataname+\"onreg.nii \"+\"/mediasophie/Elements/\"+Dataname+\"on.nii.gz\"\n",
    "import subprocess\n",
    "process = subprocess.Popen(bashCommand.split(), stdout=subprocess.PIPE)\n",
    "output, error = process.communicate()"
   ]
  },
  {
   "cell_type": "code",
   "execution_count": null,
   "metadata": {
    "collapsed": false,
    "scrolled": true
   },
   "outputs": [],
   "source": [
    "import matlab.engine\n"
   ]
  },
  {
   "cell_type": "code",
   "execution_count": null,
   "metadata": {
    "collapsed": false
   },
   "outputs": [],
   "source": [
    "eng=matlab.engine.start_matlab()"
   ]
  },
  {
   "cell_type": "code",
   "execution_count": null,
   "metadata": {
    "collapsed": false
   },
   "outputs": [],
   "source": [
    "bashCommand = \"matlab -r 'RoughAllSteps.m'\"\n",
    "import subprocess\n",
    "process = subprocess.Popen(bashCommand.split(), stdout=subprocess.PIPE)\n",
    "output, error = process.communicate()"
   ]
  },
  {
   "cell_type": "code",
   "execution_count": null,
   "metadata": {
    "collapsed": false
   },
   "outputs": [],
   "source": [
    "%matlab\n",
    "RoughAllSteps"
   ]
  },
  {
   "cell_type": "code",
   "execution_count": null,
   "metadata": {
    "collapsed": true
   },
   "outputs": [],
   "source": []
  }
 ],
 "metadata": {
  "kernelspec": {
   "display_name": "Python 2",
   "language": "python",
   "name": "python2"
  },
  "language_info": {
   "codemirror_mode": {
    "name": "ipython",
    "version": 2
   },
   "file_extension": ".py",
   "mimetype": "text/x-python",
   "name": "python",
   "nbconvert_exporter": "python",
   "pygments_lexer": "ipython2",
   "version": "2.7.12"
  }
 },
 "nbformat": 4,
 "nbformat_minor": 1
}
