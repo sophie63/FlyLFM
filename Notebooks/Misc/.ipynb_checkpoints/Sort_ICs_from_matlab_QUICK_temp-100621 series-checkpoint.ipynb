{
 "cells": [
  {
   "cell_type": "markdown",
   "metadata": {},
   "source": [
    "This pipeline opens the result of ICAalamelodic.m, lets the user interactively label the components that look like neuronal activity (rather than movement artefacts or noise), sort them by label, plots a final summary for the chosen components, and save the reordered maps and time series."
   ]
  },
  {
   "cell_type": "code",
   "execution_count": 2,
   "metadata": {
    "collapsed": false
   },
   "outputs": [],
   "source": [
    "import matplotlib\n",
    "import numpy as np\n",
    "import matplotlib.pyplot as plt\n",
    "from scipy import stats\n",
    "from scipy import io\n",
    "%matplotlib inline \n",
    "import pylab"
   ]
  },
  {
   "cell_type": "markdown",
   "metadata": {},
   "source": [
    "Open time series"
   ]
  },
  {
   "cell_type": "code",
   "execution_count": 3,
   "metadata": {
    "collapsed": false
   },
   "outputs": [],
   "source": [
    "import scipy.io as sio"
   ]
  },
  {
   "cell_type": "code",
   "execution_count": 4,
   "metadata": {
    "collapsed": false
   },
   "outputs": [
    {
     "name": "stdout",
     "output_type": "stream",
     "text": [
      "/media/sophie/470fddca-e336-42c7-9d91-b91361d994ea1/100621series/100627ss1regdFF20spsfkfc140Smith0_4_60TS.mat\n"
     ]
    }
   ],
   "source": [
    "# from http://stackoverflow.com/questions/3579568/choosing-a-file-in-python-with-simple-dialog\n",
    "from Tkinter import Tk\n",
    "from tkFileDialog import askopenfilename\n",
    "\n",
    "Tk().withdraw() # we don't want a full GUI, so keep the root window from appearing\n",
    "filename = askopenfilename() # show an \"Open\" dialog box and return the path to the selected file\n",
    "print(filename)"
   ]
  },
  {
   "cell_type": "code",
   "execution_count": 5,
   "metadata": {
    "collapsed": false
   },
   "outputs": [],
   "source": [
    "Ua=sio.loadmat(filename)"
   ]
  },
  {
   "cell_type": "code",
   "execution_count": 6,
   "metadata": {
    "collapsed": false
   },
   "outputs": [],
   "source": [
    "DT=Ua['TSo']"
   ]
  },
  {
   "cell_type": "code",
   "execution_count": 7,
   "metadata": {
    "collapsed": false
   },
   "outputs": [
    {
     "data": {
      "text/plain": [
       "(3740, 140)"
      ]
     },
     "execution_count": 7,
     "metadata": {},
     "output_type": "execute_result"
    }
   ],
   "source": [
    "DT.shape"
   ]
  },
  {
   "cell_type": "code",
   "execution_count": 8,
   "metadata": {
    "collapsed": false
   },
   "outputs": [],
   "source": [
    "S1=DT.shape"
   ]
  },
  {
   "cell_type": "code",
   "execution_count": 9,
   "metadata": {
    "collapsed": false
   },
   "outputs": [],
   "source": [
    "DTmean=np.zeros(S1)\n",
    "DTvar=np.zeros(S1)\n",
    "Var=np.zeros(S1[1])"
   ]
  },
  {
   "cell_type": "code",
   "execution_count": 10,
   "metadata": {
    "collapsed": false
   },
   "outputs": [],
   "source": [
    "for i in range(S1[1]):\n",
    "    DTmean[:,i]=DT[:,i]-np.mean(DT[:,i],0)"
   ]
  },
  {
   "cell_type": "code",
   "execution_count": 11,
   "metadata": {
    "collapsed": false
   },
   "outputs": [],
   "source": [
    "for i in range(S1[1]):\n",
    "    Var[i]=np.sqrt(np.var(DTmean[:,i]))\n",
    "    DTvar[:,i]=DTmean[:,i]/Var[i]"
   ]
  },
  {
   "cell_type": "code",
   "execution_count": 12,
   "metadata": {
    "collapsed": false
   },
   "outputs": [
    {
     "data": {
      "text/plain": [
       "(3740, 140)"
      ]
     },
     "execution_count": 12,
     "metadata": {},
     "output_type": "execute_result"
    }
   ],
   "source": [
    "DTvar.shape"
   ]
  },
  {
   "cell_type": "markdown",
   "metadata": {},
   "source": [
    "open maps"
   ]
  },
  {
   "cell_type": "code",
   "execution_count": 13,
   "metadata": {
    "collapsed": false
   },
   "outputs": [],
   "source": [
    "import nibabel as nb"
   ]
  },
  {
   "cell_type": "code",
   "execution_count": 14,
   "metadata": {
    "collapsed": false
   },
   "outputs": [
    {
     "name": "stdout",
     "output_type": "stream",
     "text": [
      "/media/sophie/470fddca-e336-42c7-9d91-b91361d994ea1/100621series/100627ss1regdFF20spsfkfc140Smith0_4_60IC.nii\n"
     ]
    }
   ],
   "source": [
    "# from http://stackoverflow.com/questions/3579568/choosing-a-file-in-python-with-simple-dialog\n",
    "from Tkinter import Tk\n",
    "from tkFileDialog import askopenfilename\n",
    "\n",
    "Tk().withdraw() # we don't want a full GUI, so keep the root window from appearing\n",
    "filename2 = askopenfilename() # show an \"Open\" dialog box and return the path to the selected file\n",
    "print(filename2)"
   ]
  },
  {
   "cell_type": "code",
   "execution_count": 15,
   "metadata": {
    "collapsed": false
   },
   "outputs": [],
   "source": [
    "img1 = nb.load(filename2)"
   ]
  },
  {
   "cell_type": "code",
   "execution_count": 16,
   "metadata": {
    "collapsed": false
   },
   "outputs": [],
   "source": [
    "data = img1.get_data()"
   ]
  },
  {
   "cell_type": "code",
   "execution_count": 17,
   "metadata": {
    "collapsed": false
   },
   "outputs": [],
   "source": [
    "S=data.shape"
   ]
  },
  {
   "cell_type": "code",
   "execution_count": 18,
   "metadata": {
    "collapsed": false
   },
   "outputs": [
    {
     "data": {
      "text/plain": [
       "(80, 82, 10, 140)"
      ]
     },
     "execution_count": 18,
     "metadata": {},
     "output_type": "execute_result"
    }
   ],
   "source": [
    "S"
   ]
  },
  {
   "cell_type": "markdown",
   "metadata": {},
   "source": [
    "# Zscore maps"
   ]
  },
  {
   "cell_type": "code",
   "execution_count": 19,
   "metadata": {
    "collapsed": false
   },
   "outputs": [],
   "source": [
    "Demean=np.zeros(S)\n",
    "Dmaps=np.zeros(S)\n",
    "Dvar=np.zeros(S)\n",
    "Var=np.zeros(S[3])\n",
    "D2=np.zeros([S[0],S[1],5,S[3]])\n",
    "Tvar=np.zeros(S[3])"
   ]
  },
  {
   "cell_type": "markdown",
   "metadata": {},
   "source": [
    "Transform the maps to have zero mean"
   ]
  },
  {
   "cell_type": "code",
   "execution_count": 20,
   "metadata": {
    "collapsed": false
   },
   "outputs": [],
   "source": [
    "for i in range(S[3]):\n",
    "    Demean[:,:,:,i]=data[:,:,:,i]-np.mean(np.mean(np.mean(data[:,:,:,i],0),0),0)"
   ]
  },
  {
   "cell_type": "markdown",
   "metadata": {},
   "source": [
    "Transform the maps to have unit variance and zscore"
   ]
  },
  {
   "cell_type": "code",
   "execution_count": 21,
   "metadata": {
    "collapsed": false
   },
   "outputs": [],
   "source": [
    "for i in range(S[3]):\n",
    "    Dsq=np.reshape(Demean[:,:,:,i],S[0]*S[1]*S[2])\n",
    "    Var[i]=np.sqrt(np.var(Dsq))\n",
    "    Dvar=Demean[:,:,:,i]/Var[i]\n",
    "    Dmaps[:,:,:,i]=Dvar-2.5\n",
    "Dmaps[Dmaps<0]=0"
   ]
  },
  {
   "cell_type": "markdown",
   "metadata": {},
   "source": [
    "Order ICs by variance"
   ]
  },
  {
   "cell_type": "code",
   "execution_count": 22,
   "metadata": {
    "collapsed": false
   },
   "outputs": [],
   "source": [
    "datao=data\n",
    "Dmapso=Dmaps"
   ]
  },
  {
   "cell_type": "code",
   "execution_count": 23,
   "metadata": {
    "collapsed": false
   },
   "outputs": [
    {
     "data": {
      "text/plain": [
       "[<matplotlib.lines.Line2D at 0x7fc0ab66b4d0>]"
      ]
     },
     "execution_count": 23,
     "metadata": {},
     "output_type": "execute_result"
    },
    {
     "data": {
      "image/png": "[encoded data removed]",
      "text/plain": [
       "<matplotlib.figure.Figure at 0x7fc0b85dd6d0>"
      ]
     },
     "metadata": {},
     "output_type": "display_data"
    }
   ],
   "source": [
    "plt.plot(Var)"
   ]
  },
  {
   "cell_type": "code",
   "execution_count": 37,
   "metadata": {
    "collapsed": false
   },
   "outputs": [
    {
     "name": "stdout",
     "output_type": "stream",
     "text": [
      "/media/sophie/470fddca-e336-42c7-9d91-b91361d994ea1/100621series/MAX_100627ss1regdFF20spsfkfc140Smith0_4_60ICtemplate.nii\n"
     ]
    },
    {
     "data": {
      "text/plain": [
       "<matplotlib.image.AxesImage at 0x7fc0a96ec590>"
      ]
     },
     "execution_count": 37,
     "metadata": {},
     "output_type": "execute_result"
    },
    {
     "data": {
      "image/png": "[encoded data removed]",
      "text/plain": [
       "<matplotlib.figure.Figure at 0x7fc0a9832b10>"
      ]
     },
     "metadata": {},
     "output_type": "display_data"
    }
   ],
   "source": [
    "# from http://stackoverflow.com/questions/3579568/choosing-a-file-in-python-with-simple-dialog\n",
    "from Tkinter import Tk\n",
    "from tkFileDialog import askopenfilename\n",
    "\n",
    "Tk().withdraw() # we don't want a full GUI, so keep the root window from appearing\n",
    "filenamet = askopenfilename() # show an \"Open\" dialog box and return the path to the selected file\n",
    "print(filenamet)\n",
    "nimt=nb.load(filenamet)\n",
    "Dtemp=np.squeeze(nimt.get_data())\n",
    "Dtemp.shape\n",
    "\n",
    "\n",
    "if S[2]>5:\n",
    "    Nstack=5\n",
    "    Int100=[(i+1)*100/Nstack for i in range(Nstack)]\n",
    "    Percs=np.percentile(range(S[2]),Int100)\n",
    "    Indices=np.split(range(S[2]),Percs)\n",
    "    D1=np.zeros([S[0],S[1],Nstack])\n",
    "    Dmean=np.squeeze(data[:,:,range(Nstack),2])\n",
    "    for i in range(Nstack):\n",
    "        Vmean=np.mean(Dtemp[:,:,Indices[i]],2)\n",
    "        Dmean[:,:,i]=Vmean\n",
    "\n",
    "plt.imshow(Dmean[:,:,4],cmap=plt.cm.gray)"
   ]
  },
  {
   "cell_type": "code",
   "execution_count": null,
   "metadata": {
    "collapsed": true
   },
   "outputs": [],
   "source": []
  },
  {
   "cell_type": "code",
   "execution_count": 34,
   "metadata": {
    "collapsed": false
   },
   "outputs": [
    {
     "data": {
      "text/plain": [
       "(80, 82, 5)"
      ]
     },
     "execution_count": 34,
     "metadata": {},
     "output_type": "execute_result"
    }
   ],
   "source": [
    "Dmean.shape"
   ]
  },
  {
   "cell_type": "markdown",
   "metadata": {},
   "source": []
  },
  {
   "cell_type": "markdown",
   "metadata": {},
   "source": [
    "#Separate maps in substacks, sort the independent components by brain regions "
   ]
  },
  {
   "cell_type": "code",
   "execution_count": 25,
   "metadata": {
    "collapsed": false
   },
   "outputs": [],
   "source": [
    "my_cmap=plt.cm.jet\n",
    "my_cmap.set_bad(alpha=0)\n",
    "Good_ICs=np.zeros(S[3])\n",
    "Label_ICs=[]\n",
    "pylab.rcParams['figure.figsize'] = (13, 2.5)"
   ]
  },
  {
   "cell_type": "code",
   "execution_count": 26,
   "metadata": {
    "collapsed": false
   },
   "outputs": [],
   "source": [
    "Dtemp=data[:,:,:,0]"
   ]
  },
  {
   "cell_type": "code",
   "execution_count": 27,
   "metadata": {
    "collapsed": false
   },
   "outputs": [
    {
     "data": {
      "application/javascript": [
       "IPython.OutputArea.auto_scroll_threshold =4000;"
      ],
      "text/plain": [
       "<IPython.core.display.Javascript object>"
      ]
     },
     "metadata": {},
     "output_type": "display_data"
    }
   ],
   "source": [
    "%%javascript\n",
    "IPython.OutputArea.auto_scroll_threshold =4000;"
   ]
  },
  {
   "cell_type": "code",
   "execution_count": 28,
   "metadata": {
    "collapsed": false
   },
   "outputs": [
    {
     "data": {
      "text/plain": [
       "(3740, 140)"
      ]
     },
     "execution_count": 28,
     "metadata": {},
     "output_type": "execute_result"
    }
   ],
   "source": [
    "DTvar.shape"
   ]
  },
  {
   "cell_type": "code",
   "execution_count": 29,
   "metadata": {
    "collapsed": false
   },
   "outputs": [
    {
     "data": {
      "text/plain": [
       "(80, 82, 10, 140)"
      ]
     },
     "execution_count": 29,
     "metadata": {},
     "output_type": "execute_result"
    }
   ],
   "source": [
    "S"
   ]
  },
  {
   "cell_type": "code",
   "execution_count": 30,
   "metadata": {
    "collapsed": false
   },
   "outputs": [
    {
     "name": "stdout",
     "output_type": "stream",
     "text": [
      "/media/sophie/470fddca-e336-42c7-9d91-b91361d994ea1/100621series/100627/100627X.mat\n"
     ]
    }
   ],
   "source": [
    "# from http://stackoverflow.com/questions/3579568/choosing-a-file-in-python-with-simple-dialog\n",
    "Tk().withdraw() # we don't want a full GUI, so keep the root window from appearing\n",
    "filename = askopenfilename() # show an \"Open\" dialog box and return the path to the selected file\n",
    "print(filename)"
   ]
  },
  {
   "cell_type": "code",
   "execution_count": 31,
   "metadata": {
    "collapsed": true
   },
   "outputs": [],
   "source": [
    "Ua=sio.loadmat(filename)\n",
    "Xk=Ua['X']"
   ]
  },
  {
   "cell_type": "code",
   "execution_count": 32,
   "metadata": {
    "collapsed": false
   },
   "outputs": [
    {
     "data": {
      "text/plain": [
       "(4, 3740)"
      ]
     },
     "execution_count": 32,
     "metadata": {},
     "output_type": "execute_result"
    }
   ],
   "source": [
    "Xk.shape"
   ]
  },
  {
   "cell_type": "code",
   "execution_count": 33,
   "metadata": {
    "collapsed": false
   },
   "outputs": [
    {
     "name": "stdout",
     "output_type": "stream",
     "text": [
      "0\n"
     ]
    },
    {
     "name": "stderr",
     "output_type": "stream",
     "text": [
      "/usr/local/lib/python2.7/dist-packages/numpy/ma/core.py:4185: UserWarning: Warning: converting a masked element to nan.\n",
      "  warnings.warn(\"Warning: converting a masked element to nan.\")\n"
     ]
    },
    {
     "data": {
      "image/png": "[encoded data removed]",
      "text/plain": [
       "<matplotlib.figure.Figure at 0x7fc0ab3e0450>"
      ]
     },
     "metadata": {},
     "output_type": "display_data"
    },
    {
     "data": {
      "image/png": "[encoded data removed]",
      "text/plain": [
       "<matplotlib.figure.Figure at 0x7fc0ab1f6850>"
      ]
     },
     "metadata": {},
     "output_type": "display_data"
    },
    {
     "ename": "KeyboardInterrupt",
     "evalue": "",
     "output_type": "error",
     "traceback": [
      "\u001b[0;31m---------------------------------------------------------------------------\u001b[0m",
      "\u001b[0;31mKeyboardInterrupt\u001b[0m                         Traceback (most recent call last)",
      "\u001b[0;32m<ipython-input-33-2403c668985c>\u001b[0m in \u001b[0;36m<module>\u001b[0;34m()\u001b[0m\n\u001b[1;32m     34\u001b[0m     \u001b[0mplt\u001b[0m\u001b[0;34m.\u001b[0m\u001b[0mshow\u001b[0m\u001b[0;34m(\u001b[0m\u001b[0;34m)\u001b[0m\u001b[0;34m\u001b[0m\u001b[0m\n\u001b[1;32m     35\u001b[0m \u001b[0;34m\u001b[0m\u001b[0m\n\u001b[0;32m---> 36\u001b[0;31m     \u001b[0mLabel_ICs\u001b[0m\u001b[0;34m.\u001b[0m\u001b[0mappend\u001b[0m\u001b[0;34m(\u001b[0m\u001b[0mraw_input\u001b[0m\u001b[0;34m(\u001b[0m\u001b[0;34m)\u001b[0m\u001b[0;34m)\u001b[0m\u001b[0;34m\u001b[0m\u001b[0m\n\u001b[0m\u001b[1;32m     37\u001b[0m     \u001b[0;32mif\u001b[0m \u001b[0mLabel_ICs\u001b[0m\u001b[0;34m[\u001b[0m\u001b[0mj\u001b[0m\u001b[0;34m]\u001b[0m\u001b[0;34m==\u001b[0m\u001b[0;34m''\u001b[0m\u001b[0;34m:\u001b[0m\u001b[0;34m\u001b[0m\u001b[0m\n\u001b[1;32m     38\u001b[0m         \u001b[0mGood_ICs\u001b[0m\u001b[0;34m[\u001b[0m\u001b[0mj\u001b[0m\u001b[0;34m]\u001b[0m\u001b[0;34m=\u001b[0m\u001b[0;36m0\u001b[0m\u001b[0;34m\u001b[0m\u001b[0m\n",
      "\u001b[0;32m/usr/local/lib/python2.7/dist-packages/ipykernel/kernelbase.pyc\u001b[0m in \u001b[0;36mraw_input\u001b[0;34m(self, prompt)\u001b[0m\n\u001b[1;32m    687\u001b[0m             \u001b[0mself\u001b[0m\u001b[0;34m.\u001b[0m\u001b[0m_parent_ident\u001b[0m\u001b[0;34m,\u001b[0m\u001b[0;34m\u001b[0m\u001b[0m\n\u001b[1;32m    688\u001b[0m             \u001b[0mself\u001b[0m\u001b[0;34m.\u001b[0m\u001b[0m_parent_header\u001b[0m\u001b[0;34m,\u001b[0m\u001b[0;34m\u001b[0m\u001b[0m\n\u001b[0;32m--> 689\u001b[0;31m             \u001b[0mpassword\u001b[0m\u001b[0;34m=\u001b[0m\u001b[0mFalse\u001b[0m\u001b[0;34m,\u001b[0m\u001b[0;34m\u001b[0m\u001b[0m\n\u001b[0m\u001b[1;32m    690\u001b[0m         )\n\u001b[1;32m    691\u001b[0m \u001b[0;34m\u001b[0m\u001b[0m\n",
      "\u001b[0;32m/usr/local/lib/python2.7/dist-packages/ipykernel/kernelbase.pyc\u001b[0m in \u001b[0;36m_input_request\u001b[0;34m(self, prompt, ident, parent, password)\u001b[0m\n\u001b[1;32m    717\u001b[0m             \u001b[0;32mexcept\u001b[0m \u001b[0mKeyboardInterrupt\u001b[0m\u001b[0;34m:\u001b[0m\u001b[0;34m\u001b[0m\u001b[0m\n\u001b[1;32m    718\u001b[0m                 \u001b[0;31m# re-raise KeyboardInterrupt, to truncate traceback\u001b[0m\u001b[0;34m\u001b[0m\u001b[0;34m\u001b[0m\u001b[0m\n\u001b[0;32m--> 719\u001b[0;31m                 \u001b[0;32mraise\u001b[0m \u001b[0mKeyboardInterrupt\u001b[0m\u001b[0;34m\u001b[0m\u001b[0m\n\u001b[0m\u001b[1;32m    720\u001b[0m             \u001b[0;32melse\u001b[0m\u001b[0;34m:\u001b[0m\u001b[0;34m\u001b[0m\u001b[0m\n\u001b[1;32m    721\u001b[0m                 \u001b[0;32mbreak\u001b[0m\u001b[0;34m\u001b[0m\u001b[0m\n",
      "\u001b[0;31mKeyboardInterrupt\u001b[0m: "
     ]
    }
   ],
   "source": [
    "for j in range(S[3]):\n",
    "\n",
    "    if S[2]>5:\n",
    "        for i in range(Nstack):\n",
    "            V=Dmaps[:,:,Indices[i],j]\n",
    "            D1[:,:,i]=np.max(V,2)\n",
    "        D2[:,:,:,j]=D1\n",
    "        D1[D1==0]=np.nan\n",
    "           \n",
    "    else:\n",
    "        for i in range(S[2]):\n",
    "            V=Dmaps[:,:,i,j]\n",
    "            D1[:,:,i]=V \n",
    "            \n",
    "\n",
    "    print(j)\n",
    "    for i in range(Nstack):\n",
    "        plt.subplot(1,5,i+1)\n",
    "        plt.imshow(Dmean[:,:,i],cmap=plt.cm.gray)\n",
    "        plt.imshow(D1[:,:,i], cmap=my_cmap,interpolation='none')\n",
    "        frame1 = plt.gca()\n",
    "        frame1.axes.get_xaxis().set_visible(False)\n",
    "        frame1.axes.get_yaxis().set_visible(False)\n",
    "        \n",
    "    plt.show()\n",
    "    \n",
    "   # plt.plot(TS_ROI[Order[j],:])\n",
    "    plt.plot(DTvar[:,j])\n",
    "    plt.plot(Xk[0,:]/np.std(Xk[0,:])+0.5,color=(1,0,0))   \n",
    "    plt.plot(Xk[1,:]/np.std(Xk[1,:])+0.5,color=(0,1,0))\n",
    "    plt.plot(Xk[2,:]/np.std(Xk[1,:])+0.5,color=(0.5,0.5,0))    \n",
    "    plt.plot(Xk[3,:]/np.std(Xk[1,:])+0.5,color=(0,0.5,1))\n",
    "    \n",
    "    plt.show()\n",
    "    \n",
    "    Label_ICs.append(raw_input())\n",
    "    if Label_ICs[j]=='':\n",
    "        Good_ICs[j]=0\n",
    "    else:\n",
    "        Good_ICs[j]=1\n",
    "        \n",
    "        "
   ]
  },
  {
   "cell_type": "code",
   "execution_count": null,
   "metadata": {
    "collapsed": false
   },
   "outputs": [],
   "source": [
    "for j in range(S[3]):\n",
    "\n",
    "    if Label_ICs[j]=='1':       \n",
    "        if S[2]>5:\n",
    "            for i in range(Nstack):\n",
    "                V=Dmaps[:,:,Indices[i],j]\n",
    "                D1[:,:,i]=np.max(V,2)\n",
    "            D2[:,:,:,j]=D1\n",
    "            D1[D1==0]=np.nan\n",
    "           \n",
    "        else:\n",
    "            for i in range(S[2]):\n",
    "                V=Dmaps[:,:,i,j]\n",
    "                D1[:,:,i]=V \n",
    "            \n",
    "\n",
    "        print(j)\n",
    "        for i in range(Nstack):\n",
    "            plt.subplot(1,5,i+1)\n",
    "            plt.imshow(Dmean[:,:,i],cmap=plt.cm.gray)\n",
    "            plt.imshow(D1[:,:,i], cmap=my_cmap,interpolation='none')\n",
    "            frame1 = plt.gca()\n",
    "            frame1.axes.get_xaxis().set_visible(False)\n",
    "            frame1.axes.get_yaxis().set_visible(False)\n",
    "        \n",
    "        plt.show()\n",
    "    \n",
    "   # plt.plot(TS_ROI[Order[j],:])\n",
    "        plt.plot(DTvar[:,j])\n",
    "        plt.plot(Xk[0,:]/np.std(Xk[0,:])+0.5,color=(1,0,0))   \n",
    "        plt.plot(Xk[1,:]/np.std(Xk[1,:])+0.5,color=(0,1,0))\n",
    "        plt.plot(Xk[2,:]/np.std(Xk[1,:])+0.5,color=(0.5,0.5,0))    \n",
    "        plt.plot(Xk[3,:]/np.std(Xk[1,:])+0.5,color=(0,0.5,1))\n",
    "    \n",
    "        plt.show()"
   ]
  },
  {
   "cell_type": "code",
   "execution_count": null,
   "metadata": {
    "collapsed": false
   },
   "outputs": [],
   "source": [
    "Label_ICs"
   ]
  },
  {
   "cell_type": "code",
   "execution_count": null,
   "metadata": {
    "collapsed": false
   },
   "outputs": [],
   "source": [
    "D2=Dmaps[:,:,:,:]"
   ]
  },
  {
   "cell_type": "code",
   "execution_count": null,
   "metadata": {
    "collapsed": false
   },
   "outputs": [],
   "source": [
    "Label_ICs[182]='AL-LH'"
   ]
  },
  {
   "cell_type": "code",
   "execution_count": null,
   "metadata": {
    "collapsed": false
   },
   "outputs": [],
   "source": [
    "set(Label_ICs)"
   ]
  },
  {
   "cell_type": "code",
   "execution_count": null,
   "metadata": {
    "collapsed": false
   },
   "outputs": [],
   "source": [
    "if len(Label_ICs)<S[3]:\n",
    "    for j in range(S[3]-len(Label_ICs)):\n",
    "      Label_ICs.append('')  "
   ]
  },
  {
   "cell_type": "code",
   "execution_count": null,
   "metadata": {
    "collapsed": false
   },
   "outputs": [],
   "source": [
    "Dict={'a':0,'Co':1,'ol':1,'CO':1,'TM':1,'Tm':1,'T':1,'Mt':2,'ME':2,'O':2,'OL':2,'o':2,'OG':3,'AL':5,'G':4,'PN':5,'PI':5,'CA':5,'L':5,'LH':5,'lh':5,'l':5,'iPN':5,'KC':7,'kc':7,'M':7,'MB':8,'FB':9,'F':9,'FF':9,'EB':10,'eb':10,'CC':11,'C':11,'c':11,'PB':11,'pb':11,'AMMC':13,'V':12,'S':13,'s':13,'PS':13,'SOG':13,'I':12,'i':12,'D':15,'CB':15,'DCB':15,'PCB':15,'':16,'0':16}"
   ]
  },
  {
   "cell_type": "code",
   "execution_count": null,
   "metadata": {
    "collapsed": false
   },
   "outputs": [],
   "source": [
    "Translated=[Dict[X] for X in Label_ICs]"
   ]
  },
  {
   "cell_type": "code",
   "execution_count": null,
   "metadata": {
    "collapsed": false
   },
   "outputs": [],
   "source": [
    "G=Good_ICs.tolist();"
   ]
  },
  {
   "cell_type": "code",
   "execution_count": null,
   "metadata": {
    "collapsed": false
   },
   "outputs": [],
   "source": [
    "len(Good_ICs)"
   ]
  },
  {
   "cell_type": "code",
   "execution_count": null,
   "metadata": {
    "collapsed": false
   },
   "outputs": [],
   "source": [
    "G.count(1)"
   ]
  },
  {
   "cell_type": "code",
   "execution_count": null,
   "metadata": {
    "collapsed": false
   },
   "outputs": [],
   "source": [
    "where_are_NaNs = np.isnan(D2)\n",
    "\n",
    "D2[where_are_NaNs] = 0"
   ]
  },
  {
   "cell_type": "code",
   "execution_count": null,
   "metadata": {
    "collapsed": false
   },
   "outputs": [],
   "source": [
    "D3=np.zeros([S[0],S[1],5,S[3]])"
   ]
  },
  {
   "cell_type": "code",
   "execution_count": null,
   "metadata": {
    "collapsed": false
   },
   "outputs": [],
   "source": [
    "if S[2]>5:\n",
    "    for i in range(5):\n",
    "        D3[:,:,i,:]=np.mean(D2[:,:,Indices[i],:],2)"
   ]
  },
  {
   "cell_type": "code",
   "execution_count": null,
   "metadata": {
    "collapsed": false
   },
   "outputs": [],
   "source": [
    "if S[2]>5:\n",
    "    Final_map=np.zeros([S[0],S[1],5,3])\n",
    "    Fmaps=np.zeros([S[0],S[1],5,3])\n",
    "else:\n",
    "    Final_map=np.zeros([S[0],S[1],3])\n",
    "    Fmaps=np.zeros([S[0],S[1],3])    \n",
    "C=np.zeros([S[3],3])"
   ]
  },
  {
   "cell_type": "code",
   "execution_count": null,
   "metadata": {
    "collapsed": false
   },
   "outputs": [],
   "source": [
    "for j in range(S[3]):    \n",
    "    if Good_ICs[j]:\n",
    "        C[j,:]=np.squeeze(np.random.rand(3,1))\n",
    "        for k in range(3):\n",
    "            if S[2]>5:\n",
    "                M=np.max(np.squeeze(np.reshape(D3[:,:,:,j],S[0]*S[1]*5)))\n",
    "            else:\n",
    "                M=np.max(np.squeeze(np.reshape(Dmaps[:,:,:,j],S[0]*S[1]*S[2])))\n",
    "            Fmaps[:,:,:,k]=0.7*D3[:,:,:,j]*C[j,k]/np.max(np.squeeze(np.reshape(D3[:,:,:,j]*np.max(C[j,:]),S[0]*S[1]*5)))\n",
    "        Final_map=Final_map+Fmaps"
   ]
  },
  {
   "cell_type": "code",
   "execution_count": null,
   "metadata": {
    "collapsed": false
   },
   "outputs": [],
   "source": [
    "pylab.rcParams['figure.figsize'] = (14, 5)\n",
    "\n",
    "if S[2]>5:\n",
    "    N=Nstack\n",
    "else:\n",
    "    N=S[2]\n",
    "for i in range(N):\n",
    "        plt.subplot(1,N,i+1)\n",
    "        plt.imshow(Final_map[:,:,i]) \n",
    "        frame1 = plt.gca()\n",
    "        frame1.axes.get_xaxis().set_visible(False)\n",
    "        frame1.axes.get_yaxis().set_visible(False)"
   ]
  },
  {
   "cell_type": "code",
   "execution_count": null,
   "metadata": {
    "collapsed": false
   },
   "outputs": [],
   "source": [
    "pylab.rcParams['figure.figsize'] = (7, 7)\n",
    "h=2\n",
    "i=0\n",
    "\n",
    "for j in range(S[3]):\n",
    "    if Good_ICs[j]:\n",
    "        plt.plot((DT[:,j]+h*i),color=C[j,:])\n",
    "        i=i+1\n",
    "\n",
    "plt.show()"
   ]
  },
  {
   "cell_type": "code",
   "execution_count": null,
   "metadata": {
    "collapsed": false
   },
   "outputs": [],
   "source": [
    "List1=[(Translated[i],i) for i in range(S[3])]"
   ]
  },
  {
   "cell_type": "code",
   "execution_count": null,
   "metadata": {
    "collapsed": false
   },
   "outputs": [],
   "source": [
    "Newlist=sorted(List1, key=lambda List1: List1[0])"
   ]
  },
  {
   "cell_type": "code",
   "execution_count": null,
   "metadata": {
    "collapsed": false
   },
   "outputs": [],
   "source": [
    "Neworder=[Newlist[i][1] for i in range(S[3])  if Newlist[i][0] != 16]"
   ]
  },
  {
   "cell_type": "code",
   "execution_count": null,
   "metadata": {
    "collapsed": false
   },
   "outputs": [],
   "source": [
    "Neworder"
   ]
  },
  {
   "cell_type": "code",
   "execution_count": null,
   "metadata": {
    "collapsed": false
   },
   "outputs": [],
   "source": [
    "Order[Neworder]"
   ]
  },
  {
   "cell_type": "code",
   "execution_count": null,
   "metadata": {
    "collapsed": false
   },
   "outputs": [],
   "source": [
    "[Label_ICs[Neworder[i]] for i in range(len(Neworder))]  "
   ]
  },
  {
   "cell_type": "code",
   "execution_count": null,
   "metadata": {
    "collapsed": false
   },
   "outputs": [],
   "source": [
    "NewDT=DTvar[:,Neworder[:]].T"
   ]
  },
  {
   "cell_type": "code",
   "execution_count": null,
   "metadata": {
    "collapsed": false
   },
   "outputs": [],
   "source": [
    "NewDT.shape"
   ]
  },
  {
   "cell_type": "code",
   "execution_count": null,
   "metadata": {
    "collapsed": false
   },
   "outputs": [],
   "source": [
    "for j in range(len(Neworder)):\n",
    "    A=NewDT[:,j]\n",
    "    V=np.sqrt(np.var(A))\n",
    "    NewDT[:,j]=A/V"
   ]
  },
  {
   "cell_type": "code",
   "execution_count": null,
   "metadata": {
    "collapsed": false
   },
   "outputs": [],
   "source": [
    "C1=np.zeros([6,3])\n",
    "C1[0][:]=(1,0,0)\n",
    "C1[1][:]=(0,1,0)\n",
    "C1[2][:]=(0,0,1)\n",
    "C1[3][:]=(0.8,0.8,0)\n",
    "C1[4][:]=(0,1,1)\n",
    "C1[5][:]=(1,0,1)"
   ]
  },
  {
   "cell_type": "code",
   "execution_count": null,
   "metadata": {
    "collapsed": false
   },
   "outputs": [],
   "source": [
    "S1=DT.shape\n",
    "S1"
   ]
  },
  {
   "cell_type": "code",
   "execution_count": null,
   "metadata": {
    "collapsed": false
   },
   "outputs": [],
   "source": [
    "h=8\n",
    "pylab.rcParams['figure.figsize'] = (7, 14)\n",
    "i=0\n",
    "t=[j*0.005 for j in range(S1[0])]\n",
    "\n",
    "for j in range(len(Neworder)):\n",
    "        plt.plot(t,NewDT[j,:]+h*j,color=C1[i%6][:])\n",
    "        i=i+1\n",
    "plt.ylim([-3,h*j+5])\n",
    "\n",
    "frame1=plt.gca()\n",
    "frame1.axes.get_yaxis().set_ticks([])\n",
    "matplotlib.rcParams.update({'font.size': 18})\n",
    "plt.show()"
   ]
  },
  {
   "cell_type": "code",
   "execution_count": null,
   "metadata": {
    "collapsed": false
   },
   "outputs": [],
   "source": [
    "Newmaps=Dmaps[:,:,:,Neworder[:]]"
   ]
  },
  {
   "cell_type": "code",
   "execution_count": null,
   "metadata": {
    "collapsed": false
   },
   "outputs": [],
   "source": [
    "L=len(set([Translated[Neworder[i]] for i in range(len(Neworder))]))"
   ]
  },
  {
   "cell_type": "code",
   "execution_count": null,
   "metadata": {
    "collapsed": false
   },
   "outputs": [],
   "source": [
    "[Translated[Neworder[i]] for i in range(len(Neworder))]"
   ]
  },
  {
   "cell_type": "code",
   "execution_count": null,
   "metadata": {
    "collapsed": false
   },
   "outputs": [],
   "source": [
    "Regionmaps=np.zeros([S[0],S[1],L,3])\n",
    "Datasort=np.zeros([S[0],S[1],S[2],L,3])"
   ]
  },
  {
   "cell_type": "code",
   "execution_count": null,
   "metadata": {
    "collapsed": false
   },
   "outputs": [],
   "source": [
    "Regionname=[]"
   ]
  },
  {
   "cell_type": "code",
   "execution_count": null,
   "metadata": {
    "collapsed": false
   },
   "outputs": [],
   "source": [
    "Newmaps.shape"
   ]
  },
  {
   "cell_type": "code",
   "execution_count": null,
   "metadata": {
    "collapsed": false
   },
   "outputs": [],
   "source": [
    "Nstack"
   ]
  },
  {
   "cell_type": "code",
   "execution_count": null,
   "metadata": {
    "collapsed": false
   },
   "outputs": [],
   "source": [
    "Mapsordered=datao[:,:,:,Neworder[:]]\n",
    "mapfilename=filename2+'mapsordered.nii'\n",
    "Mapsordered2=np.transpose(Mapsordered,(3,2,1,0))\n",
    "#nimap = NiftiImage(Mapsordered2)\n",
    "#nimap.save(mapfilename)"
   ]
  },
  {
   "cell_type": "code",
   "execution_count": null,
   "metadata": {
    "collapsed": false
   },
   "outputs": [],
   "source": [
    "DMapsordered=Dmapso[:,:,:,Neworder[:]]\n",
    "mapfilename=filename2+'zscoredmapsordered.nii'\n",
    "DMapsordered2=np.transpose(DMapsordered,(3,2,1,0))\n",
    "#nimap = NiftiImage(DMapsordered2)\n",
    "#nimap.save(mapfilename)"
   ]
  },
  {
   "cell_type": "code",
   "execution_count": null,
   "metadata": {
    "collapsed": false
   },
   "outputs": [],
   "source": [
    "j=0\n",
    "i=0\n",
    "k=Translated[Neworder[i]]\n",
    "m=0\n",
    "Regionname.append(Label_ICs[Neworder[i]])\n",
    "for i in range(len(Neworder)):\n",
    "    #C2=C1[i%6][:]\n",
    "    for l in range(3):\n",
    "        M=np.max(np.squeeze(np.reshape(Newmaps[:,:,:,i],S[0]*S[1]*S[2])))\n",
    "        Regionmaps[:,:,j,l]=Regionmaps[:,:,j,l]+0.7*np.max(DMapsordered[:,:,:,i],2)*C1[i%6][l]/M\n",
    "        Datasort[:,:,:,j,l]=Datasort[:,:,:,j,l]+Dmaps[:,:,:,Neworder[i]]*C1[i%6][l] \n",
    "    i=i+1\n",
    "    m=m+1\n",
    "    if i<len(Neworder):\n",
    "        k1=Translated[Neworder[i]]\n",
    "        \n",
    "    if k1 != k:\n",
    "        j=j+1\n",
    "        k=k1\n",
    "        m=0\n",
    "        Regionname.append(Label_ICs[Neworder[i]])"
   ]
  },
  {
   "cell_type": "code",
   "execution_count": null,
   "metadata": {
    "collapsed": false
   },
   "outputs": [],
   "source": [
    "Regionname"
   ]
  },
  {
   "cell_type": "code",
   "execution_count": null,
   "metadata": {
    "collapsed": false
   },
   "outputs": [],
   "source": [
    "Datasort.shape"
   ]
  },
  {
   "cell_type": "code",
   "execution_count": null,
   "metadata": {
    "collapsed": false
   },
   "outputs": [],
   "source": [
    "DMapscolor=np.sum(Datasort, axis=3)\n",
    "DMapscolor.shape"
   ]
  },
  {
   "cell_type": "code",
   "execution_count": null,
   "metadata": {
    "collapsed": false
   },
   "outputs": [],
   "source": [
    "mapfilename=filename2+'zscoredmapscolor.nii'\n",
    "DMapscolor2=np.transpose(DMapscolor,(3,2,1,0))"
   ]
  },
  {
   "cell_type": "code",
   "execution_count": null,
   "metadata": {
    "collapsed": false
   },
   "outputs": [],
   "source": [
    "DMapscolor2.shape"
   ]
  },
  {
   "cell_type": "code",
   "execution_count": null,
   "metadata": {
    "collapsed": false
   },
   "outputs": [],
   "source": [
    "nimap = NiftiImage(DMapscolor2)\n",
    "nimap.save(mapfilename)"
   ]
  },
  {
   "cell_type": "code",
   "execution_count": null,
   "metadata": {
    "collapsed": false,
    "scrolled": true
   },
   "outputs": [],
   "source": [
    "h=8\n",
    "pylab.rcParams['figure.figsize'] = (7,14)\n",
    "i=0\n",
    "t=[j*0.005 for j in range(S1[0])]\n",
    "\n",
    "\n",
    "for j in range(len(Neworder)):\n",
    "        plt.plot(t,NewDT[j,:]+h*j,color=C1[i%6][:])\n",
    "        i=i+1\n",
    "plt.ylim([-3,h*j+5])\n",
    "\n",
    "frame1=plt.gca()\n",
    "frame1.axes.get_yaxis().set_ticks([])\n",
    "matplotlib.rcParams.update({'font.size': 18})\n",
    "plt.show()"
   ]
  },
  {
   "cell_type": "code",
   "execution_count": null,
   "metadata": {
    "collapsed": false,
    "scrolled": true
   },
   "outputs": [],
   "source": [
    "pylab.rcParams['figure.figsize'] = (7, 14)\n",
    "import scipy\n",
    "from scipy import ndimage\n",
    "\n",
    "for i in range(L):\n",
    "        plt.subplot(L,1,L-i)\n",
    "        Rotated_Plot = ndimage.rotate(Regionmaps[:,:,i], -90)\n",
    "        IM=plt.imshow(Rotated_Plot) \n",
    "        frame1 = plt.gca()\n",
    "        frame1.axes.get_xaxis().set_visible(False)\n",
    "        frame1.axes.get_yaxis().set_visible(False)\n",
    "        "
   ]
  },
  {
   "cell_type": "code",
   "execution_count": null,
   "metadata": {
    "collapsed": false
   },
   "outputs": [],
   "source": [
    "Sr=Regionmaps.shape\n",
    "RegionmapsT=np.zeros([Sr[1],Sr[0],Sr[2],Sr[3]])\n",
    "for i in range(Sr[2]):\n",
    "    for j in range(Sr[3]):\n",
    "        RegionmapsT[:,:,i,j]=Regionmaps[:,:,i,j].T\n",
    "RegionmapsT[RegionmapsT==0]=np.nan\n",
    "Dmeanproj=np.max(Dmean,2)"
   ]
  },
  {
   "cell_type": "code",
   "execution_count": null,
   "metadata": {
    "collapsed": false
   },
   "outputs": [],
   "source": [
    "pylab.rcParams['figure.figsize'] = (7, 14)\n",
    "import scipy\n",
    "from scipy import ndimage\n",
    "#from skimage import color\n",
    "\n",
    "Dmeanprojrgb=np.dstack((Dmeanproj.T,Dmeanproj.T,Dmeanproj.T))\n",
    "\n",
    "for i in range(L):\n",
    "        plt.subplot(L,1,L-i)\n",
    "        #plt.imshow(0.5*Dmeanproj.T,cmap=plt.cm.gray)\n",
    "        plt.imshow(0.05*Dmeanprojrgb)\n",
    "        plt.imshow(np.squeeze(RegionmapsT[:,:,i]),interpolation='none')\n",
    "        #Rotated_Plot = ndimage.rotate(Regionmaps[:,:,i], -90)\n",
    "        #IM=plt.imshow(Rotated_Plot)\n",
    "        #Rotated_Plot2= plt.imshow(mp.max(Dmean,3),cmap=plt.cm.gray)\n",
    "        frame1 = plt.gca()\n",
    "        frame1.axes.get_xaxis().set_visible(False)\n",
    "        frame1.axes.get_yaxis().set_visible(False)"
   ]
  },
  {
   "cell_type": "code",
   "execution_count": null,
   "metadata": {
    "collapsed": true
   },
   "outputs": [],
   "source": [
    "foldername='/media/sophie2/100115'"
   ]
  },
  {
   "cell_type": "code",
   "execution_count": null,
   "metadata": {
    "collapsed": false
   },
   "outputs": [],
   "source": [
    "import scipy.io as sio\n",
    "sio.savemat(foldername+'NewDT.mat',{'NewDT':NewDT})"
   ]
  },
  {
   "cell_type": "code",
   "execution_count": null,
   "metadata": {
    "collapsed": false
   },
   "outputs": [],
   "source": [
    "names=set([Label_ICs[Neworder[i]] for i in range(len(Neworder))])  \n",
    "for i in range(L):\n",
    "    regionfilename=foldername+Regionname[i]+'.nii'\n",
    "    D3=np.transpose(Datasort[:,:,:,i,:],(2,3,1,0))\n",
    "    nim = NiftiImage(D3)\n",
    "    nim.save(regionfilename)"
   ]
  },
  {
   "cell_type": "code",
   "execution_count": null,
   "metadata": {
    "collapsed": false
   },
   "outputs": [],
   "source": [
    "%notebook -e 862_150.ipynb"
   ]
  },
  {
   "cell_type": "code",
   "execution_count": null,
   "metadata": {
    "collapsed": false
   },
   "outputs": [],
   "source": [
    "%store"
   ]
  }
 ],
 "metadata": {
  "kernelspec": {
   "display_name": "Python 2",
   "language": "python",
   "name": "python2"
  },
  "language_info": {
   "codemirror_mode": {
    "name": "ipython",
    "version": 2
   },
   "file_extension": ".py",
   "mimetype": "text/x-python",
   "name": "python",
   "nbconvert_exporter": "python",
   "pygments_lexer": "ipython2",
   "version": "2.7.12"
  }
 },
 "nbformat": 4,
 "nbformat_minor": 0
}
