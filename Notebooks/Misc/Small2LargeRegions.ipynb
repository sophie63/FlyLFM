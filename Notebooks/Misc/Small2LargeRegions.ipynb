{
 "cells": [
  {
   "cell_type": "code",
   "execution_count": 35,
   "metadata": {
    "collapsed": true
   },
   "outputs": [],
   "source": [
    "import matplotlib\n",
    "import numpy as np\n",
    "import matplotlib.pyplot as plt\n",
    "from scipy import stats\n",
    "from scipy import io\n",
    "import scipy.io as sio\n",
    "%matplotlib inline \n",
    "import pylab\n",
    "import csv\n",
    "from Tkinter import Tk\n",
    "from tkFileDialog import askopenfilename\n",
    "from tkFileDialog import askdirectory\n",
    "import nibabel as nb\n",
    "from scipy.interpolate import interp1d\n",
    "from scipy import ndimage"
   ]
  },
  {
   "cell_type": "code",
   "execution_count": 36,
   "metadata": {
    "collapsed": false
   },
   "outputs": [],
   "source": [
    "filenameM='/home/sophie/RegionList'\n",
    "with open(filenameM) as f:\n",
    "    content = f.readlines()\n",
    "Names=[Line.split('\\t') for Line in content]\n",
    "RegionName=[Names[i][0] for i in range(75)]\n",
    "Num=[int(Names[i][2]) for i in range(75)]"
   ]
  },
  {
   "cell_type": "code",
   "execution_count": 26,
   "metadata": {
    "collapsed": false
   },
   "outputs": [
    {
     "name": "stdout",
     "output_type": "stream",
     "text": [
      "/media/sophie/470fddca-e336-42c7-9d91-b91361d994ea/100697seriesGood/100697series/100697Registration/JFRCTemplate03_2018.nii\n"
     ]
    }
   ],
   "source": [
    "# from http://stackoverflow.com/questions/3579568/choosing-a-file-in-python-with-simple-dialog\n",
    "from Tkinter import Tk\n",
    "from tkFileDialog import askopenfilename\n",
    "\n",
    "Tk().withdraw() # we don't want a full GUI, so keep the root window from appearing\n",
    "filenameM = askopenfilename() # show an \"Open\" dialog box and return the path to the selected file\n",
    "print(filenameM)"
   ]
  },
  {
   "cell_type": "code",
   "execution_count": 27,
   "metadata": {
    "collapsed": true
   },
   "outputs": [],
   "source": [
    "img1 = nb.load(filenameM)\n",
    "Masks = img1.get_data()\n",
    "Sm=Masks.shape\n",
    "Masks=np.array(Masks)"
   ]
  },
  {
   "cell_type": "code",
   "execution_count": 37,
   "metadata": {
    "collapsed": true
   },
   "outputs": [],
   "source": [
    "LargerRegionDic={'':'','AME_R':'OL','LO_R':'OL','NO':'CX','BU_R':'CX','PB':'CX','LH_R':'LH','LAL_R':'LX','SAD':'PENP'\n",
    "               ,'CAN_R':'PENP','AMMC_R':'PENP','ICL_R':'INP','VES_R':'VMNP','IB_R':'INP','ATL_R':'INP','CRE_R':'INP'\n",
    "               ,'MB_PED_R':'MB','MB_VL_R':'MB','MB_ML_R':'MB','FLA_R':'PENP','LOP_R':'OL','EB':'CX','AL_R':'AL',\n",
    "                'ME_R':'OL','FB':'CX','SLP_R':'SNP','SIP_R':'SNP','SMP_R':'SNP','AVLP_R':'VLNP','PVLP_R':'VLNP',\n",
    "                'IVLP_R':'VLNP','PLP_R':'VLNP','AOTU_R':'VLNP','GOR_R':'VMNP','MB_CA_R':'MB','SPS_R':'VMNP',\n",
    "                'IPS_R':'VMNP','SCL_R':'INP','EPA_R':'VMNP','GNG':'GNG','PRW':'PENP','GA_R':'LX','AME_L':'OL'\n",
    "                ,'LO_L':'OL','BU_L':'CX','LH_L':'LH','LAL_L':'LX','CAN_L':'PENP','AMMC_L':'PENP','ICL_L':'INP',\n",
    "                'VES_L':'VMNP','IB_L':'INP','ATL_L':'INP','CRE_L':'INP','MB_PED_L':'MB','MB_VL_L':'MB',\n",
    "                'MB_ML_L':'MB','FLA_L':'PENP','LOP_L':'OL','AL_L':'AL','ME_L':'OL','SLP_L':'SNP','SIP_L':'SNP',\n",
    "                'SMP_L':'SNP','AVLP_L':'VLNP','PVLP_L':'VLNP','IVLP_L':'VLNP','PLP_L':'VLNP','AOTU_L':'VLNP',\n",
    "                'GOR_L':'VMNP','MB_CA_L':'MB','SPS_L':'VMNP','IPS_L':'VMNP','SCL_L':'INP','EPA_L':'VMNP','GA_L':'LX'}"
   ]
  },
  {
   "cell_type": "code",
   "execution_count": 38,
   "metadata": {
    "collapsed": true
   },
   "outputs": [],
   "source": [
    "LargerRegionInd={ 'OL':1,'VLNP':2,'VMNP':3,'AL':4,'MB':5,'LH':6,'SNP':7,'CX':8,'LX':9,'INP':10,'PENP':11,'GNG':12,'':13}"
   ]
  },
  {
   "cell_type": "code",
   "execution_count": 39,
   "metadata": {
    "collapsed": false
   },
   "outputs": [],
   "source": [
    "SmallRegionLargeId={k: LargerRegionInd[v] for (k,v) in LargerRegionDic.items()}"
   ]
  },
  {
   "cell_type": "code",
   "execution_count": 40,
   "metadata": {
    "collapsed": false
   },
   "outputs": [
    {
     "data": {
      "text/plain": [
       "4"
      ]
     },
     "execution_count": 40,
     "metadata": {},
     "output_type": "execute_result"
    }
   ],
   "source": [
    "SmallRegionLargeId['AL_L']"
   ]
  },
  {
   "cell_type": "code",
   "execution_count": 33,
   "metadata": {
    "collapsed": false
   },
   "outputs": [
    {
     "data": {
      "text/plain": [
       "(1024, 512, 44, 1)"
      ]
     },
     "execution_count": 33,
     "metadata": {},
     "output_type": "execute_result"
    }
   ],
   "source": [
    "Sm"
   ]
  },
  {
   "cell_type": "code",
   "execution_count": 42,
   "metadata": {
    "collapsed": false
   },
   "outputs": [
    {
     "name": "stdout",
     "output_type": "stream",
     "text": [
      "3\n",
      "1\n",
      "22\n",
      "1\n",
      "25\n",
      "1\n",
      "52\n",
      "1\n",
      "53\n",
      "1\n",
      "69\n",
      "1\n",
      "71\n",
      "1\n",
      "30\n",
      "2\n",
      "31\n",
      "2\n",
      "32\n",
      "2\n",
      "33\n",
      "2\n",
      "34\n",
      "2\n",
      "75\n",
      "2\n",
      "76\n",
      "2\n",
      "77\n",
      "2\n",
      "78\n",
      "2\n",
      "79\n",
      "2\n",
      "13\n",
      "3\n",
      "35\n",
      "3\n",
      "37\n",
      "3\n",
      "38\n",
      "3\n",
      "40\n",
      "3\n",
      "60\n",
      "3\n",
      "80\n",
      "3\n",
      "82\n",
      "3\n",
      "83\n",
      "3\n",
      "85\n",
      "3\n",
      "24\n",
      "4\n",
      "70\n",
      "4\n",
      "17\n",
      "5\n",
      "18\n",
      "5\n",
      "19\n",
      "5\n",
      "36\n",
      "5\n",
      "64\n",
      "5\n",
      "65\n",
      "5\n",
      "66\n",
      "5\n",
      "81\n",
      "5\n",
      "7\n",
      "6\n",
      "55\n",
      "6\n",
      "27\n",
      "7\n",
      "28\n",
      "7\n",
      "29\n",
      "7\n",
      "72\n",
      "7\n",
      "73\n",
      "7\n",
      "74\n",
      "7\n",
      "4\n",
      "8\n",
      "5\n",
      "8\n",
      "6\n",
      "8\n",
      "23\n",
      "8\n",
      "26\n",
      "8\n",
      "54\n",
      "8\n",
      "8\n",
      "9\n",
      "51\n",
      "9\n",
      "56\n",
      "9\n",
      "86\n",
      "9\n",
      "12\n",
      "10\n",
      "14\n",
      "10\n",
      "15\n",
      "10\n",
      "16\n",
      "10\n",
      "39\n",
      "10\n",
      "59\n",
      "10\n",
      "61\n",
      "10\n",
      "62\n",
      "10\n",
      "63\n",
      "10\n",
      "84\n",
      "10\n",
      "9\n",
      "11\n",
      "10\n",
      "11\n",
      "11\n",
      "11\n",
      "20\n",
      "11\n",
      "50\n",
      "11\n",
      "57\n",
      "11\n",
      "58\n",
      "11\n",
      "67\n",
      "11\n",
      "49\n",
      "12\n"
     ]
    }
   ],
   "source": [
    "MaskLargeReg=np.zeros([Sm[0],Sm[1],Sm[2],12])\n",
    "for k in range(13):\n",
    "    for j in range(74):\n",
    "        if SmallRegionLargeId[RegionName[j+1]]==k:\n",
    "            #MaskLargeReg[:,:,:,k-1]=MaskLargeReg[:,:,:,k-1]+Masks[:,:,:,Num[j+1]-1]\n",
    "            print(Num[j+1])\n",
    "            #print(RegionName[j+1])\n",
    "            print(k)\n",
    "        "
   ]
  },
  {
   "cell_type": "code",
   "execution_count": 21,
   "metadata": {
    "collapsed": true
   },
   "outputs": [],
   "source": [
    "NewName='/'.join(filenameM.split('/')[:-1])+'/JFRCTransformedLarge.nii'"
   ]
  },
  {
   "cell_type": "code",
   "execution_count": 22,
   "metadata": {
    "collapsed": false
   },
   "outputs": [
    {
     "data": {
      "text/plain": [
       "'/media/sophie/db554c18-e3eb-41e2-afad-7de1c92bf4a5/ArclightCombo/100051/JFRCTransformedLarge.nii'"
      ]
     },
     "execution_count": 22,
     "metadata": {},
     "output_type": "execute_result"
    }
   ],
   "source": [
    "NewName"
   ]
  },
  {
   "cell_type": "code",
   "execution_count": 23,
   "metadata": {
    "collapsed": false
   },
   "outputs": [],
   "source": [
    "nim=nb.Nifti1Image(MaskLargeReg,np.eye(4))\n",
    "nb.save(nim,NewName)"
   ]
  },
  {
   "cell_type": "raw",
   "metadata": {
    "collapsed": true
   },
   "source": []
  }
 ],
 "metadata": {
  "kernelspec": {
   "display_name": "Python 2",
   "language": "python",
   "name": "python2"
  },
  "language_info": {
   "codemirror_mode": {
    "name": "ipython",
    "version": 2
   },
   "file_extension": ".py",
   "mimetype": "text/x-python",
   "name": "python",
   "nbconvert_exporter": "python",
   "pygments_lexer": "ipython2",
   "version": "2.7.12"
  }
 },
 "nbformat": 4,
 "nbformat_minor": 0
}
