{
 "cells": [
  {
   "cell_type": "markdown",
   "metadata": {},
   "source": [
    "This pipeline opens the result of ICAalamelodic.m, lets the user interactively label the components that look like neuronal activity (rather than movement artefacts or noise), sort them by label, plots a final summary for the chosen components, and save the reordered maps and time series."
   ]
  },
  {
   "cell_type": "code",
   "execution_count": 1,
   "metadata": {
    "collapsed": false
   },
   "outputs": [],
   "source": [
    "import matplotlib\n",
    "import numpy as np\n",
    "import matplotlib.pyplot as plt\n",
    "from scipy import stats\n",
    "from scipy import io\n",
    "%matplotlib inline \n",
    "import pylab"
   ]
  },
  {
   "cell_type": "markdown",
   "metadata": {},
   "source": [
    "Open time series"
   ]
  },
  {
   "cell_type": "code",
   "execution_count": 2,
   "metadata": {
    "collapsed": false
   },
   "outputs": [],
   "source": [
    "import scipy.io as sio"
   ]
  },
  {
   "cell_type": "code",
   "execution_count": 3,
   "metadata": {
    "collapsed": false
   },
   "outputs": [
    {
     "name": "stdout",
     "output_type": "stream",
     "text": [
      "/media/sophie/470fddca-e336-42c7-9d91-b91361d994ea1/100145/100145ss1onregdFF2000pointspsfkf150Smith0_4_60TS.mat\n"
     ]
    }
   ],
   "source": [
    "# from http://stackoverflow.com/questions/3579568/choosing-a-file-in-python-with-simple-dialog\n",
    "from Tkinter import Tk\n",
    "from tkFileDialog import askopenfilename\n",
    "\n",
    "Tk().withdraw() # we don't want a full GUI, so keep the root window from appearing\n",
    "filename = askopenfilename() # show an \"Open\" dialog box and return the path to the selected file\n",
    "print(filename)"
   ]
  },
  {
   "cell_type": "code",
   "execution_count": 4,
   "metadata": {
    "collapsed": false
   },
   "outputs": [],
   "source": [
    "Ua=sio.loadmat(filename)"
   ]
  },
  {
   "cell_type": "code",
   "execution_count": 5,
   "metadata": {
    "collapsed": false
   },
   "outputs": [],
   "source": [
    "DT=Ua['TSo']"
   ]
  },
  {
   "cell_type": "code",
   "execution_count": 6,
   "metadata": {
    "collapsed": false
   },
   "outputs": [
    {
     "data": {
      "text/plain": [
       "(4770, 150)"
      ]
     },
     "execution_count": 6,
     "metadata": {},
     "output_type": "execute_result"
    }
   ],
   "source": [
    "DT.shape"
   ]
  },
  {
   "cell_type": "code",
   "execution_count": 7,
   "metadata": {
    "collapsed": false
   },
   "outputs": [],
   "source": [
    "S1=DT.shape"
   ]
  },
  {
   "cell_type": "code",
   "execution_count": 8,
   "metadata": {
    "collapsed": false
   },
   "outputs": [],
   "source": [
    "DTmean=np.zeros(S1)\n",
    "DTvar=np.zeros(S1)\n",
    "Var=np.zeros(S1[1])"
   ]
  },
  {
   "cell_type": "code",
   "execution_count": 9,
   "metadata": {
    "collapsed": false
   },
   "outputs": [],
   "source": [
    "for i in range(S1[1]):\n",
    "    DTmean[:,i]=DT[:,i]-np.mean(DT[:,i],0)"
   ]
  },
  {
   "cell_type": "code",
   "execution_count": 10,
   "metadata": {
    "collapsed": false
   },
   "outputs": [],
   "source": [
    "for i in range(S1[1]):\n",
    "    Var[i]=np.sqrt(np.var(DTmean[:,i]))\n",
    "    DTvar[:,i]=DTmean[:,i]/Var[i]"
   ]
  },
  {
   "cell_type": "code",
   "execution_count": 11,
   "metadata": {
    "collapsed": false
   },
   "outputs": [
    {
     "data": {
      "text/plain": [
       "(4770, 150)"
      ]
     },
     "execution_count": 11,
     "metadata": {},
     "output_type": "execute_result"
    }
   ],
   "source": [
    "DTvar.shape"
   ]
  },
  {
   "cell_type": "markdown",
   "metadata": {},
   "source": [
    "open maps"
   ]
  },
  {
   "cell_type": "code",
   "execution_count": 12,
   "metadata": {
    "collapsed": false
   },
   "outputs": [],
   "source": [
    "import nibabel as nb"
   ]
  },
  {
   "cell_type": "code",
   "execution_count": 13,
   "metadata": {
    "collapsed": false
   },
   "outputs": [
    {
     "name": "stdout",
     "output_type": "stream",
     "text": [
      "/media/sophie/470fddca-e336-42c7-9d91-b91361d994ea1/100145/100145ss1onregdFF2000pointspsfkf150Smith0_4_60IC.nii\n"
     ]
    }
   ],
   "source": [
    "# from http://stackoverflow.com/questions/3579568/choosing-a-file-in-python-with-simple-dialog\n",
    "from Tkinter import Tk\n",
    "from tkFileDialog import askopenfilename\n",
    "\n",
    "Tk().withdraw() # we don't want a full GUI, so keep the root window from appearing\n",
    "filename2 = askopenfilename() # show an \"Open\" dialog box and return the path to the selected file\n",
    "print(filename2)"
   ]
  },
  {
   "cell_type": "code",
   "execution_count": 14,
   "metadata": {
    "collapsed": false
   },
   "outputs": [],
   "source": [
    "img1 = nb.load(filename2)"
   ]
  },
  {
   "cell_type": "code",
   "execution_count": 15,
   "metadata": {
    "collapsed": false
   },
   "outputs": [],
   "source": [
    "data = img1.get_data()"
   ]
  },
  {
   "cell_type": "code",
   "execution_count": 16,
   "metadata": {
    "collapsed": false
   },
   "outputs": [],
   "source": [
    "S=data.shape"
   ]
  },
  {
   "cell_type": "markdown",
   "metadata": {},
   "source": [
    "# Zscore maps"
   ]
  },
  {
   "cell_type": "code",
   "execution_count": 17,
   "metadata": {
    "collapsed": false
   },
   "outputs": [],
   "source": [
    "Demean=np.zeros(S)\n",
    "Dmaps=np.zeros(S)\n",
    "Dvar=np.zeros(S)\n",
    "Var=np.zeros(S[3])\n",
    "D2=np.zeros([S[0],S[1],5,S[3]])\n",
    "Tvar=np.zeros(S[3])"
   ]
  },
  {
   "cell_type": "markdown",
   "metadata": {},
   "source": [
    "Transform the maps to have zero mean"
   ]
  },
  {
   "cell_type": "code",
   "execution_count": 18,
   "metadata": {
    "collapsed": false
   },
   "outputs": [],
   "source": [
    "for i in range(S[3]):\n",
    "    Demean[:,:,:,i]=data[:,:,:,i]-np.mean(np.mean(np.mean(data[:,:,:,i],0),0),0)"
   ]
  },
  {
   "cell_type": "markdown",
   "metadata": {},
   "source": [
    "Transform the maps to have unit variance and zscore"
   ]
  },
  {
   "cell_type": "code",
   "execution_count": 19,
   "metadata": {
    "collapsed": false
   },
   "outputs": [],
   "source": [
    "for i in range(S[3]):\n",
    "    Dsq=np.reshape(Demean[:,:,:,i],S[0]*S[1]*S[2])\n",
    "    Var[i]=np.sqrt(np.var(Dsq))\n",
    "    Dvar=Demean[:,:,:,i]/Var[i]\n",
    "    Dmaps[:,:,:,i]=Dvar-2.5\n",
    "Dmaps[Dmaps<0]=0"
   ]
  },
  {
   "cell_type": "markdown",
   "metadata": {},
   "source": [
    "Order ICs by variance"
   ]
  },
  {
   "cell_type": "code",
   "execution_count": 20,
   "metadata": {
    "collapsed": false
   },
   "outputs": [],
   "source": [
    "datao=data\n",
    "Dmapso=Dmaps"
   ]
  },
  {
   "cell_type": "code",
   "execution_count": 21,
   "metadata": {
    "collapsed": false
   },
   "outputs": [
    {
     "data": {
      "text/plain": [
       "[<matplotlib.lines.Line2D at 0x7f4ed9ce7090>]"
      ]
     },
     "execution_count": 21,
     "metadata": {},
     "output_type": "execute_result"
    },
    {
     "data": {
      "image/png": "[encoded data removed]",
      "text/plain": [
       "<matplotlib.figure.Figure at 0x7f4ef0e51510>"
      ]
     },
     "metadata": {},
     "output_type": "display_data"
    }
   ],
   "source": [
    "plt.plot(Var)"
   ]
  },
  {
   "cell_type": "code",
   "execution_count": 33,
   "metadata": {
    "collapsed": false
   },
   "outputs": [
    {
     "name": "stdout",
     "output_type": "stream",
     "text": [
      "/media/sophie/470fddca-e336-42c7-9d91-b91361d994ea1/100145/MAX_100145ss1onregdFF2000pointspsfkf150Smith0_4_60IC.nii\n"
     ]
    },
    {
     "data": {
      "text/plain": [
       "<matplotlib.image.AxesImage at 0x7f4ed9670d10>"
      ]
     },
     "execution_count": 33,
     "metadata": {},
     "output_type": "execute_result"
    },
    {
     "data": {
      "image/png": "[encoded data removed]",
      "text/plain": [
       "<matplotlib.figure.Figure at 0x7f4ed9bfd690>"
      ]
     },
     "metadata": {},
     "output_type": "display_data"
    }
   ],
   "source": [
    "# from http://stackoverflow.com/questions/3579568/choosing-a-file-in-python-with-simple-dialog\n",
    "from Tkinter import Tk\n",
    "from tkFileDialog import askopenfilename\n",
    "\n",
    "Tk().withdraw() # we don't want a full GUI, so keep the root window from appearing\n",
    "filenamet = askopenfilename() # show an \"Open\" dialog box and return the path to the selected file\n",
    "print(filenamet)\n",
    "nimt=nb.load(filenamet)\n",
    "Dtemp=np.squeeze(nimt.get_data())\n",
    "Dtemp.shape\n",
    "Dmean=np.zeros([S[0],S[1],Nstack])\n",
    "\n",
    "if S[2]>5:\n",
    "    Nstack=5\n",
    "    Int100=[(i+1)*100/Nstack for i in range(Nstack)]\n",
    "    Percs=np.percentile(range(S[2]),Int100)\n",
    "    Indices=np.split(range(S[2]),Percs)\n",
    "\n",
    "    #Dmean=np.squeeze(data[:,:,range(Nstack),2])\n",
    "    for i in range(Nstack):\n",
    "        Vmean=np.mean(Dtemp[:,:,Indices[i]],2)\n",
    "        Dmean[:,:,i]=Vmean\n",
    "\n",
    "plt.imshow(Vmean,cmap=plt.cm.gray)"
   ]
  },
  {
   "cell_type": "markdown",
   "metadata": {},
   "source": [
    "#Separate maps in substacks, sort the independent components by brain regions "
   ]
  },
  {
   "cell_type": "code",
   "execution_count": 34,
   "metadata": {
    "collapsed": false
   },
   "outputs": [],
   "source": [
    "my_cmap=plt.cm.jet\n",
    "my_cmap.set_bad(alpha=0)\n",
    "Good_ICs=np.zeros(S[3])\n",
    "Label_ICs=[]\n",
    "pylab.rcParams['figure.figsize'] = (13, 2.5)"
   ]
  },
  {
   "cell_type": "code",
   "execution_count": 35,
   "metadata": {
    "collapsed": false
   },
   "outputs": [],
   "source": [
    "Dtemp=data[:,:,:,0]"
   ]
  },
  {
   "cell_type": "code",
   "execution_count": 36,
   "metadata": {
    "collapsed": false
   },
   "outputs": [
    {
     "data": {
      "application/javascript": [
       "IPython.OutputArea.auto_scroll_threshold =4000;"
      ],
      "text/plain": [
       "<IPython.core.display.Javascript object>"
      ]
     },
     "metadata": {},
     "output_type": "display_data"
    }
   ],
   "source": [
    "%%javascript\n",
    "IPython.OutputArea.auto_scroll_threshold =4000;"
   ]
  },
  {
   "cell_type": "code",
   "execution_count": 37,
   "metadata": {
    "collapsed": false
   },
   "outputs": [
    {
     "data": {
      "text/plain": [
       "(4770, 150)"
      ]
     },
     "execution_count": 37,
     "metadata": {},
     "output_type": "execute_result"
    }
   ],
   "source": [
    "DTvar.shape"
   ]
  },
  {
   "cell_type": "code",
   "execution_count": 27,
   "metadata": {
    "collapsed": false
   },
   "outputs": [
    {
     "data": {
      "text/plain": [
       "(103, 104, 11, 150)"
      ]
     },
     "execution_count": 27,
     "metadata": {},
     "output_type": "execute_result"
    }
   ],
   "source": [
    "S"
   ]
  },
  {
   "cell_type": "code",
   "execution_count": 28,
   "metadata": {
    "collapsed": false
   },
   "outputs": [
    {
     "name": "stdout",
     "output_type": "stream",
     "text": [
      "/media/sophie/470fddca-e336-42c7-9d91-b91361d994ea1/100145/100145X.mat\n"
     ]
    }
   ],
   "source": [
    "# from http://stackoverflow.com/questions/3579568/choosing-a-file-in-python-with-simple-dialog\n",
    "Tk().withdraw() # we don't want a full GUI, so keep the root window from appearing\n",
    "filename = askopenfilename() # show an \"Open\" dialog box and return the path to the selected file\n",
    "print(filename)"
   ]
  },
  {
   "cell_type": "code",
   "execution_count": 29,
   "metadata": {
    "collapsed": false
   },
   "outputs": [],
   "source": [
    "Ua=sio.loadmat(filename)\n",
    "Xk=Ua['X']"
   ]
  },
  {
   "cell_type": "code",
   "execution_count": 30,
   "metadata": {
    "collapsed": false
   },
   "outputs": [
    {
     "data": {
      "text/plain": [
       "(4, 4770)"
      ]
     },
     "execution_count": 30,
     "metadata": {},
     "output_type": "execute_result"
    }
   ],
   "source": [
    "Xk.shape"
   ]
  },
  {
   "cell_type": "code",
   "execution_count": 31,
   "metadata": {
    "collapsed": false
   },
   "outputs": [
    {
     "ename": "IndexError",
     "evalue": "index 4770 is out of bounds for axis 0 with size 4770",
     "output_type": "error",
     "traceback": [
      "\u001b[0;31m---------------------------------------------------------------------------\u001b[0m",
      "\u001b[0;31mIndexError\u001b[0m                                Traceback (most recent call last)",
      "\u001b[0;32m<ipython-input-31-2bdcd85902d4>\u001b[0m in \u001b[0;36m<module>\u001b[0;34m()\u001b[0m\n\u001b[0;32m----> 1\u001b[0;31m \u001b[0mDTvarnew\u001b[0m\u001b[0;34m=\u001b[0m\u001b[0mDTvar\u001b[0m\u001b[0;34m[\u001b[0m\u001b[0mrange\u001b[0m\u001b[0;34m(\u001b[0m\u001b[0;36m1\u001b[0m\u001b[0;34m,\u001b[0m\u001b[0;36m5206\u001b[0m\u001b[0;34m)\u001b[0m\u001b[0;34m,\u001b[0m\u001b[0;34m:\u001b[0m\u001b[0;34m]\u001b[0m\u001b[0;34m\u001b[0m\u001b[0m\n\u001b[0m",
      "\u001b[0;31mIndexError\u001b[0m: index 4770 is out of bounds for axis 0 with size 4770"
     ]
    }
   ],
   "source": [
    "DTvarnew=DTvar[range(1,5206),:]"
   ]
  },
  {
   "cell_type": "code",
   "execution_count": 38,
   "metadata": {
    "collapsed": false,
    "scrolled": true
   },
   "outputs": [
    {
     "name": "stdout",
     "output_type": "stream",
     "text": [
      "0\n"
     ]
    },
    {
     "data": {
      "image/png": "[encoded data removed]",
      "text/plain": [
       "<matplotlib.figure.Figure at 0x7f4ed960ce90>"
      ]
     },
     "metadata": {},
     "output_type": "display_data"
    },
    {
     "data": {
      "image/png": "[encoded data removed]",
      "text/plain": [
       "<matplotlib.figure.Figure at 0x7f4ed9525fd0>"
      ]
     },
     "metadata": {},
     "output_type": "display_data"
    },
    {
     "ename": "KeyboardInterrupt",
     "evalue": "",
     "output_type": "error",
     "traceback": [
      "\u001b[0;31m---------------------------------------------------------------------------\u001b[0m",
      "\u001b[0;31mKeyboardInterrupt\u001b[0m                         Traceback (most recent call last)",
      "\u001b[0;32m<ipython-input-38-159002f90593>\u001b[0m in \u001b[0;36m<module>\u001b[0;34m()\u001b[0m\n\u001b[1;32m     35\u001b[0m     \u001b[0mplt\u001b[0m\u001b[0;34m.\u001b[0m\u001b[0mshow\u001b[0m\u001b[0;34m(\u001b[0m\u001b[0;34m)\u001b[0m\u001b[0;34m\u001b[0m\u001b[0m\n\u001b[1;32m     36\u001b[0m \u001b[0;34m\u001b[0m\u001b[0m\n\u001b[0;32m---> 37\u001b[0;31m     \u001b[0mLabel_ICs\u001b[0m\u001b[0;34m.\u001b[0m\u001b[0mappend\u001b[0m\u001b[0;34m(\u001b[0m\u001b[0mraw_input\u001b[0m\u001b[0;34m(\u001b[0m\u001b[0;34m)\u001b[0m\u001b[0;34m)\u001b[0m\u001b[0;34m\u001b[0m\u001b[0m\n\u001b[0m\u001b[1;32m     38\u001b[0m     \u001b[0;32mif\u001b[0m \u001b[0mLabel_ICs\u001b[0m\u001b[0;34m[\u001b[0m\u001b[0mj\u001b[0m\u001b[0;34m]\u001b[0m\u001b[0;34m==\u001b[0m\u001b[0;34m''\u001b[0m\u001b[0;34m:\u001b[0m\u001b[0;34m\u001b[0m\u001b[0m\n\u001b[1;32m     39\u001b[0m         \u001b[0mGood_ICs\u001b[0m\u001b[0;34m[\u001b[0m\u001b[0mj\u001b[0m\u001b[0;34m]\u001b[0m\u001b[0;34m=\u001b[0m\u001b[0;36m0\u001b[0m\u001b[0;34m\u001b[0m\u001b[0m\n",
      "\u001b[0;32m/usr/local/lib/python2.7/dist-packages/ipykernel/kernelbase.pyc\u001b[0m in \u001b[0;36mraw_input\u001b[0;34m(self, prompt)\u001b[0m\n\u001b[1;32m    687\u001b[0m             \u001b[0mself\u001b[0m\u001b[0;34m.\u001b[0m\u001b[0m_parent_ident\u001b[0m\u001b[0;34m,\u001b[0m\u001b[0;34m\u001b[0m\u001b[0m\n\u001b[1;32m    688\u001b[0m             \u001b[0mself\u001b[0m\u001b[0;34m.\u001b[0m\u001b[0m_parent_header\u001b[0m\u001b[0;34m,\u001b[0m\u001b[0;34m\u001b[0m\u001b[0m\n\u001b[0;32m--> 689\u001b[0;31m             \u001b[0mpassword\u001b[0m\u001b[0;34m=\u001b[0m\u001b[0mFalse\u001b[0m\u001b[0;34m,\u001b[0m\u001b[0;34m\u001b[0m\u001b[0m\n\u001b[0m\u001b[1;32m    690\u001b[0m         )\n\u001b[1;32m    691\u001b[0m \u001b[0;34m\u001b[0m\u001b[0m\n",
      "\u001b[0;32m/usr/local/lib/python2.7/dist-packages/ipykernel/kernelbase.pyc\u001b[0m in \u001b[0;36m_input_request\u001b[0;34m(self, prompt, ident, parent, password)\u001b[0m\n\u001b[1;32m    717\u001b[0m             \u001b[0;32mexcept\u001b[0m \u001b[0mKeyboardInterrupt\u001b[0m\u001b[0;34m:\u001b[0m\u001b[0;34m\u001b[0m\u001b[0m\n\u001b[1;32m    718\u001b[0m                 \u001b[0;31m# re-raise KeyboardInterrupt, to truncate traceback\u001b[0m\u001b[0;34m\u001b[0m\u001b[0;34m\u001b[0m\u001b[0m\n\u001b[0;32m--> 719\u001b[0;31m                 \u001b[0;32mraise\u001b[0m \u001b[0mKeyboardInterrupt\u001b[0m\u001b[0;34m\u001b[0m\u001b[0m\n\u001b[0m\u001b[1;32m    720\u001b[0m             \u001b[0;32melse\u001b[0m\u001b[0;34m:\u001b[0m\u001b[0;34m\u001b[0m\u001b[0m\n\u001b[1;32m    721\u001b[0m                 \u001b[0;32mbreak\u001b[0m\u001b[0;34m\u001b[0m\u001b[0m\n",
      "\u001b[0;31mKeyboardInterrupt\u001b[0m: "
     ]
    }
   ],
   "source": [
    "D1=Dmean\n",
    "for j in range(S[3]):\n",
    "\n",
    "    if S[2]>5:\n",
    "        for i in range(Nstack):\n",
    "            V=Dmaps[:,:,Indices[i],j]\n",
    "            D1[:,:,i]=np.max(V,2)\n",
    "        D2[:,:,:,j]=D1\n",
    "        D1[D1==0]=np.nan\n",
    "           \n",
    "    else:\n",
    "        for i in range(S[2]):\n",
    "            V=Dmaps[:,:,i,j]\n",
    "            D1[:,:,i]=V \n",
    "            \n",
    "\n",
    "    print(j)\n",
    "    for i in range(Nstack):\n",
    "        plt.subplot(1,5,i+1)\n",
    "        plt.imshow(Dmean[:,:,i],cmap=plt.cm.gray)\n",
    "        plt.imshow(D1[:,:,i], cmap=my_cmap,interpolation='none')\n",
    "        frame1 = plt.gca()\n",
    "        frame1.axes.get_xaxis().set_visible(False)\n",
    "        frame1.axes.get_yaxis().set_visible(False)\n",
    "        \n",
    "    plt.show()\n",
    "    \n",
    "   # plt.plot(TS_ROI[Order[j],:])\n",
    "    plt.plot(DTvar[:,j])\n",
    "    plt.plot(Xk[0,:]/np.std(Xk[0,:])+0.5,color=(1,0,0))   \n",
    "    plt.plot(Xk[1,:]/np.std(Xk[1,:])+0.5,color=(0,1,0))\n",
    "    plt.plot(Xk[2,:]/np.std(Xk[1,:])+0.5,color=(0.5,0.5,0))    \n",
    "    plt.plot(Xk[3,:]/np.std(Xk[1,:])+0.5,color=(0,0.5,1))\n",
    "    \n",
    "    plt.show()\n",
    "    \n",
    "    Label_ICs.append(raw_input())\n",
    "    if Label_ICs[j]=='':\n",
    "        Good_ICs[j]=0\n",
    "    else:\n",
    "        Good_ICs[j]=1\n",
    "        \n",
    "        "
   ]
  },
  {
   "cell_type": "code",
   "execution_count": null,
   "metadata": {
    "collapsed": false
   },
   "outputs": [],
   "source": [
    "Label_ICs"
   ]
  },
  {
   "cell_type": "code",
   "execution_count": null,
   "metadata": {
    "collapsed": false
   },
   "outputs": [],
   "source": [
    "len(Label_ICs)"
   ]
  },
  {
   "cell_type": "code",
   "execution_count": null,
   "metadata": {
    "collapsed": false
   },
   "outputs": [],
   "source": [
    "List1=[(Label_ICs[i],i) for i in range(S[3],S[3]*2)]\n",
    "Newlist=sorted(List1, key=lambda List1: List1[0])\n",
    "\n",
    "Neworder=[Newlist[i][1] for i in range(S[3])]\n",
    "\n",
    "NewDT=DTvar[:,Neworder[:]].T\n",
    "\n",
    "for j in range(len(Neworder)):\n",
    "    A=NewDT[:,j]\n",
    "    V=np.sqrt(np.var(A))\n",
    "    NewDT[:,j]=A/V\n",
    "\n",
    "C1=np.zeros([6,3])\n",
    "C1[0][:]=(1,0,0)\n",
    "C1[1][:]=(0,1,0)\n",
    "C1[2][:]=(0,0,1)\n",
    "C1[3][:]=(0.8,0.8,0)\n",
    "C1[4][:]=(0,1,1)\n",
    "C1[5][:]=(1,0,1)\n",
    "\n",
    "Newmaps=Dmaps[:,:,:,Neworder[:]]\n",
    "\n",
    "L=len(set([Label_ICs[Neworder[i]] for i in range(len(Neworder))]))\n",
    "\n",
    "Regionmaps=np.zeros([S[0],S[1],L,3])\n",
    "Datasort=np.zeros([S[0],S[1],S[2],L,3])\n",
    "\n",
    "Regionname=[]\n",
    "\n",
    "DMapsordered=Dmapso[:,:,:,Neworder[:]]\n",
    "\n",
    "DMapsordered=Dmapso[:,:,:,Neworder[:]]\n",
    "\n",
    "j=0\n",
    "i=0\n",
    "h=3\n",
    "k=Label_ICs[Neworder[i]]\n",
    "m=0\n",
    "Regionname.append(Label_ICs[Neworder[i]])\n",
    "for i in range(len(Neworder)):\n",
    "    #C2=C1[i%6][:]\n",
    "    for l in range(3):\n",
    "        M=np.max(np.squeeze(np.reshape(Newmaps[:,:,:,i],S[0]*S[1]*S[2])))\n",
    "        Regionmaps[:,:,j,l]=Regionmaps[:,:,j,l]+0.7*np.max(DMapsordered[:,:,:,i],2)*C1[i%6][l]/M\n",
    "        Datasort[:,:,:,j,l]=Datasort[:,:,:,j,l]+Dmaps[:,:,:,Neworder[i]]*C1[i%6][l] \n",
    "    i=i+1\n",
    "    m=m+1\n",
    "    if i<len(Neworder):\n",
    "        k1=Label_ICs[Neworder[i]]\n",
    "        \n",
    "    if k1 != k:\n",
    "        j=j+1\n",
    "        k=k1\n",
    "        m=0\n",
    "        Regionname.append(Label_ICs[Neworder[i]])\n",
    "\n",
    "pylab.rcParams['figure.figsize'] = (14, 5)\n",
    "import scipy\n",
    "from scipy import ndimage\n",
    "j=0\n",
    "m=0\n",
    "L=0\n",
    "k=Label_ICs[Neworder[0]]\n",
    "for i in range(len(Neworder)):\n",
    "    m=m+1\n",
    "    \n",
    "    \n",
    "    if i<len(Neworder):\n",
    "        k1=Label_ICs[Neworder[i]]\n",
    "        \n",
    "    if k1 != k:\n",
    "        \n",
    "        k=k1\n",
    "        m=0\n",
    "        \n",
    "        plt.show()\n",
    "        plt.figure(2*j+1)\n",
    "        Rotated_Plot = ndimage.rotate(Regionmaps[:,:,j], -90)\n",
    "        IM=plt.imshow(Rotated_Plot) \n",
    "        frame1 = plt.gca()\n",
    "        frame1.axes.get_xaxis().set_visible(False)\n",
    "        frame1.axes.get_yaxis().set_visible(False)\n",
    "        j=j+1\n",
    "        plt.figure(2*j)\n",
    "        plt.plot(Xk[0,:]/np.std(Xk[0,:])+0.5,color=(1,0,0))   \n",
    "        plt.plot(Xk[1,:]/np.std(Xk[1,:])+0.5,color=(0,1,0))\n",
    "        plt.plot(Xk[2,:]/np.std(Xk[1,:])+0.5,color=(0.5,0.5,0))    \n",
    "        plt.plot(Xk[3,:]/np.std(Xk[1,:])+0.5,color=(0,0.5,1))\n",
    "    plt.plot(NewDT[i,0:5000]+h*m,color=C1[i%6][:])"
   ]
  },
  {
   "cell_type": "code",
   "execution_count": null,
   "metadata": {
    "collapsed": false
   },
   "outputs": [],
   "source": [
    "import scipy.io as sio\n",
    "sio.savemat(foldername+'NewDT.mat',{'NewDT':NewDT})"
   ]
  },
  {
   "cell_type": "code",
   "execution_count": null,
   "metadata": {
    "collapsed": false
   },
   "outputs": [],
   "source": [
    "names=set([Label_ICs[Neworder[i]] for i in range(len(Neworder))])  \n",
    "for i in range(L):\n",
    "    regionfilename=foldername+Regionname[i]+'.nii'\n",
    "    D3=np.transpose(Datasort[:,:,:,i,:],(2,3,1,0))\n",
    "    nim = NiftiImage(D3)\n",
    "    nim.save(regionfilename)"
   ]
  },
  {
   "cell_type": "code",
   "execution_count": null,
   "metadata": {
    "collapsed": false
   },
   "outputs": [],
   "source": [
    "%notebook -e 862_150.ipynb"
   ]
  },
  {
   "cell_type": "code",
   "execution_count": null,
   "metadata": {
    "collapsed": false
   },
   "outputs": [],
   "source": [
    "%store"
   ]
  }
 ],
 "metadata": {
  "kernelspec": {
   "display_name": "Python 2",
   "language": "python",
   "name": "python2"
  },
  "language_info": {
   "codemirror_mode": {
    "name": "ipython",
    "version": 2
   },
   "file_extension": ".py",
   "mimetype": "text/x-python",
   "name": "python",
   "nbconvert_exporter": "python",
   "pygments_lexer": "ipython2",
   "version": "2.7.12"
  }
 },
 "nbformat": 4,
 "nbformat_minor": 0
}
